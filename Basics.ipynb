{
 "cells": [
  {
   "cell_type": "markdown",
   "metadata": {
    "collapsed": true
   },
   "source": [
    "<h1>Exploring Hacker News Posts</h1>\n",
    "\n",
    "Hacker News is a site started by the startup incubator Y Combinator, where user-submitted stories (known as \"posts\") are voted and commented upon, similar to reddit. Hacker News is extremely popular in technology and startup circles, and posts that make it to the top of Hacker News' listings can get hundreds of thousands of visitors as a result.\n",
    "\n",
    "You can find the data set here, but note that it has been reduced from almost 300,000 rows to approximately 20,000 rows by removing all submissions that did not receive any comments, and then randomly sampling from the remaining submissions. Below are descriptions of the columns:\n",
    "\n",
    "    id: The unique identifier from Hacker News for the post\n",
    "    title: The title of the post\n",
    "    url: The URL that the posts links to, if it the post has a URL\n",
    "    num_points: The number of points the post acquired, calculated as the total number of upvotes minus the total number of downvotes\n",
    "    num_comments: The number of comments that were made on the post\n",
    "    author: The username of the person who submitted the post\n",
    "    created_at: The date and time at which the post was submitted\n",
    "\n",
    "We're specifically interested in posts whose titles begin with either Ask HN or Show HN. Users submit Ask HN posts to ask the Hacker News community a specific question. Below are a couple examples:\n",
    "\n",
    "    Ask HN: How to improve my personal website?\n",
    "\n",
    "    Ask HN: Am I the only one outraged by Twitter shutting down share counts?\n",
    "\n",
    "    Ask HN: Aby recent changes to CSS that broke mobile?\n",
    "\n",
    "Likewise, users submit Show HN posts to show the Hacker News community a project, product, or just generally something interesting. Below are a couple of examples:\n",
    "\n",
    "    Show HN: Wio Link  ESP8266 Based Web of Things Hardware Development Platform'\n",
    "\n",
    "    Show HN: Something pointless I made\n",
    "\n",
    "    Show HN: Shanhu.io, a programming playground powered by e8vm\n",
    "\n",
    "We'll compare these two types of posts to determine the following:\n",
    "\n",
    "    Do Ask HN or Show HN receive more comments on average?\n",
    "    Do posts created at a certain time receive more comments on average?\n",
    "\n",
    "Let's start by importing the libraries we need and reading the data set into a list of lists."
   ]
  },
  {
   "cell_type": "code",
   "execution_count": 1,
   "metadata": {},
   "outputs": [
    {
     "name": "stdout",
     "output_type": "stream",
     "text": [
      "['id', 'title', 'url', 'num_points', 'num_comments', 'author', 'created_at']\n",
      "['12579008', 'You have two days to comment if you want stem cells to be classified as your own', 'http://www.regulations.gov/document?D=FDA-2015-D-3719-0018', '1', '0', 'altstar', '9/26/2016 3:26']\n",
      "['12579005', 'SQLAR  the SQLite Archiver', 'https://www.sqlite.org/sqlar/doc/trunk/README.md', '1', '0', 'blacksqr', '9/26/2016 3:24']\n",
      "['12578997', 'What if we just printed a flatscreen television on the side of our boxes?', 'https://medium.com/vanmoof/our-secrets-out-f21c1f03fdc8#.ietxmez43', '1', '0', 'pavel_lishin', '9/26/2016 3:19']\n",
      "['12578989', 'algorithmic music', 'http://cacm.acm.org/magazines/2011/7/109891-algorithmic-composition/fulltext', '1', '0', 'poindontcare', '9/26/2016 3:16']\n"
     ]
    }
   ],
   "source": [
    "from csv import reader\n",
    "opened_file = open(\"E:/HN_posts_year_to_Sep_26_2016.csv\", encoding = \"cp437\")\n",
    "read_file = reader(opened_file)\n",
    "hn = list(read_file)\n",
    "loop = 0\n",
    "while (loop < 5):\n",
    "    print(hn[loop])\n",
    "    loop += 1"
   ]
  },
  {
   "cell_type": "code",
   "execution_count": 2,
   "metadata": {},
   "outputs": [
    {
     "name": "stdout",
     "output_type": "stream",
     "text": [
      "['id', 'title', 'url', 'num_points', 'num_comments', 'author', 'created_at']\n",
      "['12579008', 'You have two days to comment if you want stem cells to be classified as your own', 'http://www.regulations.gov/document?D=FDA-2015-D-3719-0018', '1', '0', 'altstar', '9/26/2016 3:26']\n",
      "['12579005', 'SQLAR  the SQLite Archiver', 'https://www.sqlite.org/sqlar/doc/trunk/README.md', '1', '0', 'blacksqr', '9/26/2016 3:24']\n",
      "['12578997', 'What if we just printed a flatscreen television on the side of our boxes?', 'https://medium.com/vanmoof/our-secrets-out-f21c1f03fdc8#.ietxmez43', '1', '0', 'pavel_lishin', '9/26/2016 3:19']\n",
      "['12578989', 'algorithmic music', 'http://cacm.acm.org/magazines/2011/7/109891-algorithmic-composition/fulltext', '1', '0', 'poindontcare', '9/26/2016 3:16']\n",
      "['12578979', 'How the Data Vault Enables the Next-Gen Data Warehouse and Data Lake', 'https://www.talend.com/blog/2016/05/12/talend-and-├é┬ôthe-data-vault├é┬ö', '1', '0', 'markgainor1', '9/26/2016 3:14']\n"
     ]
    }
   ],
   "source": [
    "headers = hn[0]\n",
    "hn = hn[1:]\n",
    "print(headers)\n",
    "loop = 0\n",
    "while (loop < 5):\n",
    "    print(hn[loop])\n",
    "    loop += 1"
   ]
  },
  {
   "cell_type": "code",
   "execution_count": 3,
   "metadata": {},
   "outputs": [
    {
     "name": "stdout",
     "output_type": "stream",
     "text": [
      "9139\n",
      "10158\n",
      "273822\n"
     ]
    }
   ],
   "source": [
    "ask_posts = []\n",
    "show_posts = []\n",
    "other_posts = []\n",
    "\n",
    "for row in hn:\n",
    "    title = row[1].lower()\n",
    "    if title.startswith(\"ask hn\"):\n",
    "        ask_posts.append(row)\n",
    "    elif title.startswith(\"show hn\"):\n",
    "        show_posts.append(row)\n",
    "    else:\n",
    "        other_posts.append(row)\n",
    "print(len(ask_posts))\n",
    "print(len(show_posts))\n",
    "print(len(other_posts))"
   ]
  },
  {
   "cell_type": "code",
   "execution_count": 4,
   "metadata": {},
   "outputs": [
    {
     "name": "stdout",
     "output_type": "stream",
     "text": [
      "10.393478498741656\n",
      "4.886099625910612\n"
     ]
    }
   ],
   "source": [
    "total_ask_comments = 0\n",
    "for ask in ask_posts:\n",
    "    total_ask_comments += int(ask[4])\n",
    "avg_ask_comments = total_ask_comments / len(ask_posts)\n",
    "print(avg_ask_comments)\n",
    "total_show_comments = 0\n",
    "for ask in show_posts:\n",
    "    total_show_comments += int(ask[4])\n",
    "avg_show_comments = total_show_comments / len(show_posts)\n",
    "print(avg_show_comments)"
   ]
  },
  {
   "cell_type": "markdown",
   "metadata": {},
   "source": [
    "<h2>Best Hours to Make an Ask Posts</h2>\n",
    "\n",
    "Next, we'll determine if ask posts created at a certain time are more likely to attract comments. We'll use the following steps to perform this analysis:\n",
    "\n",
    "    Calculate the amount of ask posts created in each hour of the day, along with the number of comments received.\n",
    "    Calculate the average number of comments ask posts receive by hour created."
   ]
  },
  {
   "cell_type": "code",
   "execution_count": 5,
   "metadata": {},
   "outputs": [],
   "source": [
    "import datetime as dt\n",
    "result_list = []\n",
    "for ask in ask_posts:\n",
    "    create = ask[6]\n",
    "    comment = int(ask[4])\n",
    "    result_list.append([create, comment])\n",
    "    \n",
    "counts_by_hour = {}\n",
    "comments_by_hour = {}\n",
    "for lists in result_list:\n",
    "    hour = lists[0]\n",
    "    hour_dt = dt.datetime.strptime(hour, \"%m/%d/%Y %H:%M\")\n",
    "    hour_str = hour_dt.strftime(\"%H\")\n",
    "    if hour_str not in counts_by_hour:\n",
    "        counts_by_hour[hour_str] = 1\n",
    "        comments_by_hour[hour_str] = lists[1]\n",
    "    else:\n",
    "        counts_by_hour[hour_str] += 1\n",
    "        comments_by_hour[hour_str] += lists[1]"
   ]
  },
  {
   "cell_type": "code",
   "execution_count": 14,
   "metadata": {},
   "outputs": [],
   "source": [
    "avg_by_hour = []\n",
    "for lists in comments_by_hour:\n",
    "    avg_comment = comments_by_hour[lists] / counts_by_hour[lists]\n",
    "    avg_by_hour.append([lists, avg_comment])"
   ]
  },
  {
   "cell_type": "code",
   "execution_count": 15,
   "metadata": {},
   "outputs": [
    {
     "name": "stdout",
     "output_type": "stream",
     "text": [
      "Top 5 Hours for Ask Posts Comments\n",
      "04:00: 28.68 average comments per post.\n",
      "02:00: 16.32 average comments per post.\n",
      "01:00: 12.38 average comments per post.\n",
      "15:00: 11.14 average comments per post.\n",
      "23:00: 10.68 average comments per post.\n"
     ]
    }
   ],
   "source": [
    "swap_avg_by_hour = []\n",
    "for row in avg_by_hour:\n",
    "    swap_avg_by_hour.append([row[1], row[0]])\n",
    "sorted_swap = sorted(swap_avg_by_hour, reverse = True)\n",
    "print(\"Top 5 Hours for Ask Posts Comments\")\n",
    "for loop in sorted_swap[:5]:\n",
    "    swap_hour = loop[1]\n",
    "    swap_hour_dt = dt.datetime.strptime(swap_hour, \"%H\")\n",
    "    swap_hour_new = swap_hour_dt + dt.timedelta(hours = 13)\n",
    "    swap_hour_str = swap_hour_new.strftime(\"%H\")\n",
    "    swap_avg = loop[0]\n",
    "    string = \"{}:00: {:.2f} average comments per post.\"\n",
    "    print(string.format(swap_hour_str, swap_avg))"
   ]
  },
  {
   "cell_type": "markdown",
   "metadata": {},
   "source": [
    "The hour that receives the most comments per post on average is at 4 AM with 28.68 average comments per post, which is 75.73% increase from the second highest average comments per post.\n",
    "\n",
    "<h2>Best Hours to Make a Show Posts</h2>\n",
    "\n",
    "Next, we'll determine if show posts created at a certain time are more likely to attract comments. We'll use the following steps to perform this analysis:\n",
    "\n",
    "    Calculate the amount of show posts created in each hour of the day, along with the number of comments received.\n",
    "    Calculate the average number of comments show posts receive by hour created."
   ]
  },
  {
   "cell_type": "code",
   "execution_count": 17,
   "metadata": {},
   "outputs": [],
   "source": [
    "result_list = []\n",
    "for show in show_posts:\n",
    "    create = show[6]\n",
    "    comment = int(show[4])\n",
    "    result_list.append([create, comment])\n",
    "    \n",
    "counts_by_hour = {}\n",
    "comments_by_hour = {}\n",
    "for lists in result_list:\n",
    "    hour = lists[0]\n",
    "    hour_dt = dt.datetime.strptime(hour, \"%m/%d/%Y %H:%M\")\n",
    "    hour_str = hour_dt.strftime(\"%H\")\n",
    "    if hour_str not in counts_by_hour:\n",
    "        counts_by_hour[hour_str] = 1\n",
    "        comments_by_hour[hour_str] = lists[1]\n",
    "    else:\n",
    "        counts_by_hour[hour_str] += 1\n",
    "        comments_by_hour[hour_str] += lists[1]"
   ]
  },
  {
   "cell_type": "code",
   "execution_count": 18,
   "metadata": {},
   "outputs": [],
   "source": [
    "avg_by_hour = []\n",
    "for lists in comments_by_hour:\n",
    "    avg_comment = comments_by_hour[lists] / counts_by_hour[lists]\n",
    "    avg_by_hour.append([lists, avg_comment])"
   ]
  },
  {
   "cell_type": "code",
   "execution_count": 20,
   "metadata": {},
   "outputs": [
    {
     "name": "stdout",
     "output_type": "stream",
     "text": [
      "Top 5 Hours for Show Posts Comments\n",
      "01:00: 6.99 average comments per post.\n",
      "20:00: 6.68 average comments per post.\n",
      "00:00: 6.00 average comments per post.\n",
      "21:00: 5.60 average comments per post.\n",
      "03:00: 5.52 average comments per post.\n"
     ]
    }
   ],
   "source": [
    "swap_avg_by_hour = []\n",
    "for row in avg_by_hour:\n",
    "    swap_avg_by_hour.append([row[1], row[0]])\n",
    "sorted_swap = sorted(swap_avg_by_hour, reverse = True)\n",
    "print(\"Top 5 Hours for Show Posts Comments\")\n",
    "for loop in sorted_swap[:5]:\n",
    "    swap_hour = loop[1]\n",
    "    swap_hour_dt = dt.datetime.strptime(swap_hour, \"%H\")\n",
    "    swap_hour_new = swap_hour_dt + dt.timedelta(hours = 13)\n",
    "    swap_hour_str = swap_hour_new.strftime(\"%H\")\n",
    "    swap_avg = loop[0]\n",
    "    string = \"{}:00: {:.2f} average comments per post.\"\n",
    "    print(string.format(swap_hour_str, swap_avg))"
   ]
  },
  {
   "cell_type": "markdown",
   "metadata": {},
   "source": [
    "The hour that receives the most comments per post on average is at 1 AM with average 6.99 comments per post, with only 4.4% increase from the second highest average comments from the post.\n",
    "\n",
    "<h1>Conclusion</h1>\n",
    "\n",
    "The best hour to create a post on Hacker News is around 1-4 AM (GMT +8) because you can get a lot of comments and responds."
   ]
  }
 ],
 "metadata": {
  "kernelspec": {
   "display_name": "Python 3",
   "language": "python",
   "name": "python3"
  },
  "language_info": {
   "codemirror_mode": {
    "name": "ipython",
    "version": 3
   },
   "file_extension": ".py",
   "mimetype": "text/x-python",
   "name": "python",
   "nbconvert_exporter": "python",
   "pygments_lexer": "ipython3",
   "version": "3.7.3"
  }
 },
 "nbformat": 4,
 "nbformat_minor": 2
}

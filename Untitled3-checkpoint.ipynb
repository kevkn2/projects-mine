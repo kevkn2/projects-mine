{
 "cells": [
  {
   "cell_type": "markdown",
   "metadata": {},
   "source": [
    "<h1>Africa Economic, Banking and Systemic Crisis Data</h1>\n",
    "\n",
    "I use the dataset from [here](https://www.kaggle.com/chirin/africa-economic-banking-and-systemic-crisis-data/data). The dataset specifically focuses on the Banking, Debt, Financial, Inflation and Systemic Crises that occurred, from 1860 to 2014, in 13 African countries, including: Algeria, Angola, Central African Republic, Ivory Coast, Egypt, Kenya, Mauritius, Morocco, Nigeria, South Africa, Tunisia, Zambia and Zimbabwe.\n",
    "\n",
    "Here is the explanation of each variables:\n",
    "1. case = A number which denotes a specific country\n",
    "2. cc3 = A three letter country code\n",
    "3. country = The name of the country\n",
    "4. year = The year of the observation\n",
    "5. systemic_crisis = \"0\" means that no systemic crisis occurred in the year and \"1\" means that a systemic crisis occurred in the year.\n",
    "6. exch_usd = The exchange rate of the country vis-a-vis the USD\n",
    "7. domestic_debt_in_default = \"0\" means that no sovereign domestic debt default occurred in the year and \"1\" means that a sovereign domestic debt default occurred in the year\n",
    "8. sovereign_external_debt_default = \"0\" means that no sovereign external debt default occurred in the year and \"1\" means that a sovereign external debt default occurred in the year\n",
    "9. gdp_weighted_default = The total debt in default vis-a-vis the GDP\n",
    "10. inflation_annual_cpi = The annual CPI Inflation rate\n",
    "11. independence = \"0\" means \"no independence\" and \"1\" means \"independence\"\n",
    "12. currency_crises = \"0\" means that no currency crisis occurred in the year and \"1\" means that a currency crisis occurred in the year\n",
    "13. inflation_crises = \"0\" means that no inflation crisis occurred in the year and \"1\" means that an inflation crisis occurred in the year\n",
    "14. banking_crisis = \"no_crisis\" means that no banking crisis occurred in the year and \"crisis\" means that a banking crisis occurred in the year\n",
    "\n",
    "The target of this project are:\n",
    "1. Which factors are most associated with Systemic Crises in Africa?\n",
    "\n",
    "Lets start this project by open this dataset into a dateframe."
   ]
  },
  {
   "cell_type": "code",
   "execution_count": 1,
   "metadata": {},
   "outputs": [
    {
     "name": "stdout",
     "output_type": "stream",
     "text": [
      "   case  cc3  country  year  systemic_crisis  exch_usd  \\\n",
      "0     1  DZA  Algeria  1870                1  0.052264   \n",
      "1     1  DZA  Algeria  1871                0  0.052798   \n",
      "2     1  DZA  Algeria  1872                0  0.052274   \n",
      "3     1  DZA  Algeria  1873                0  0.051680   \n",
      "4     1  DZA  Algeria  1874                0  0.051308   \n",
      "\n",
      "   domestic_debt_in_default  sovereign_external_debt_default  \\\n",
      "0                         0                                0   \n",
      "1                         0                                0   \n",
      "2                         0                                0   \n",
      "3                         0                                0   \n",
      "4                         0                                0   \n",
      "\n",
      "   gdp_weighted_default  inflation_annual_cpi  independence  currency_crises  \\\n",
      "0                   0.0              3.441456             0                0   \n",
      "1                   0.0             14.149140             0                0   \n",
      "2                   0.0             -3.718593             0                0   \n",
      "3                   0.0             11.203897             0                0   \n",
      "4                   0.0             -3.848561             0                0   \n",
      "\n",
      "   inflation_crises banking_crisis  \n",
      "0                 0         crisis  \n",
      "1                 0      no_crisis  \n",
      "2                 0      no_crisis  \n",
      "3                 0      no_crisis  \n",
      "4                 0      no_crisis  \n"
     ]
    }
   ],
   "source": [
    "# import pandas as pd\n",
    "import pandas as pd\n",
    "africa_crisis = pd.read_csv('E:/african_crises.csv')\n",
    "#print the first 5 data\n",
    "print(africa_crisis.head())"
   ]
  },
  {
   "cell_type": "markdown",
   "metadata": {},
   "source": [
    "<h2>Factors Associated With Systemic Crises in Africa</h2>\n",
    "\n",
    "To know the factors, then the strategies are:\n",
    "\n",
    "1. Filter the year that has systemic crises in that country, and put them in separate dataframe.\n",
    "2. Count the amount of events on each kind of crises that happened, and compare them.\n",
    "3. Rank and show the results.\n",
    "\n",
    "Lets begin the steps."
   ]
  },
  {
   "cell_type": "code",
   "execution_count": 2,
   "metadata": {},
   "outputs": [
    {
     "name": "stdout",
     "output_type": "stream",
     "text": [
      "     case  cc3                 country  year  systemic_crisis    exch_usd  \\\n",
      "0       1  DZA                 Algeria  1870                1    0.052264   \n",
      "60      1  DZA                 Algeria  1990                1   12.190800   \n",
      "61      1  DZA                 Algeria  1991                1   21.391900   \n",
      "62      1  DZA                 Algeria  1992                1   22.781400   \n",
      "181    10  CAF  CentralAfricanRepublic  1976                1  248.487324   \n",
      "\n",
      "     domestic_debt_in_default  sovereign_external_debt_default  \\\n",
      "0                           0                                0   \n",
      "60                          0                                0   \n",
      "61                          0                                1   \n",
      "62                          0                                1   \n",
      "181                         0                                0   \n",
      "\n",
      "     gdp_weighted_default  inflation_annual_cpi  independence  \\\n",
      "0                    0.00              3.441456             0   \n",
      "60                   0.00              9.272000             1   \n",
      "61                   0.23             25.900000             1   \n",
      "62                   0.23             31.700000             1   \n",
      "181                  0.00             10.510511             1   \n",
      "\n",
      "     currency_crises  inflation_crises banking_crisis  \n",
      "0                  0                 0         crisis  \n",
      "60                 1                 0         crisis  \n",
      "61                 1                 1         crisis  \n",
      "62                 0                 1         crisis  \n",
      "181                0                 0         crisis  \n"
     ]
    }
   ],
   "source": [
    "#filter the systemic crisis year\n",
    "system_bool = africa_crisis[\"systemic_crisis\"] == 1\n",
    "systemic_crisis_year = africa_crisis[system_bool]\n",
    "#show 5 rows\n",
    "print(systemic_crisis_year.head())"
   ]
  },
  {
   "cell_type": "markdown",
   "metadata": {},
   "source": [
    "We will only work on domestic debt, external debt, independence, currency crises, inflation crisis, and banking crisis columns only. We will make an function that will count each crisis happened. Then, we can rank which one the most frequently creator of systemic crisis in Africa."
   ]
  },
  {
   "cell_type": "code",
   "execution_count": 3,
   "metadata": {},
   "outputs": [],
   "source": [
    "#divide the dataframe into separate series\n",
    "domestic_debt = systemic_crisis_year[\"domestic_debt_in_default\"]\n",
    "external_debt = systemic_crisis_year[\"sovereign_external_debt_default\"]\n",
    "indep = systemic_crisis_year[\"independence\"]\n",
    "currency_crisis = systemic_crisis_year[\"currency_crises\"]\n",
    "inflation_crises = systemic_crisis_year[\"inflation_crises\"]\n",
    "banking_crisis = systemic_crisis_year[\"banking_crisis\"]"
   ]
  },
  {
   "cell_type": "code",
   "execution_count": 4,
   "metadata": {},
   "outputs": [],
   "source": [
    "#making the function that will count the frequency of crisis\n",
    "def counter(column, problem):\n",
    "    column_bool = column == problem\n",
    "    new_column = column[column_bool]\n",
    "    return new_column.shape;\n",
    "#use it on the columns\n",
    "domestic_count = int(counter(domestic_debt, 1)[0])\n",
    "external_count = int(counter(external_debt, 1)[0])\n",
    "indep_count = int(counter(indep, 0)[0])\n",
    "currency_count = int(counter(currency_crisis, 1)[0])\n",
    "inflation_count = int(counter(inflation_crises, 1)[0])\n",
    "banking_count = int(counter(banking_crisis, \"crisis\")[0])"
   ]
  },
  {
   "cell_type": "code",
   "execution_count": 5,
   "metadata": {},
   "outputs": [
    {
     "name": "stdout",
     "output_type": "stream",
     "text": [
      "The top 5 crisis creator are:\n",
      "\n",
      "banking_crisis with total of 76 cases.\n",
      "sovereign_external_debt_default with total of 38 cases.\n",
      "inflation_crises with total of 27 cases.\n",
      "currency_crises with total of 22 cases.\n",
      "domestic_debt_in_default with total of 10 cases.\n"
     ]
    }
   ],
   "source": [
    "#put them in a dictionary called crisis_creator\n",
    "crisis_creator = [[\"domestic_debt_in_default\", domestic_count], [\"sovereign_external_debt_default\", external_count], [\"independence\", indep_count], [\"currency_crises\", currency_count], [\"inflation_crises\", inflation_count], [\"banking_crisis\", banking_count]]\n",
    "for loop in crisis_creator:\n",
    "    keep = loop[0]\n",
    "    loop[0] = loop[1]\n",
    "    loop[1] = keep\n",
    "#sort them in descending value\n",
    "crisis_creator_sorted = sorted(crisis_creator, reverse = True)\n",
    "#display them\n",
    "print(\"The top 5 crisis creator are:\\n\")\n",
    "format_crisis = \"{} with total of {} cases.\"\n",
    "for loop in crisis_creator_sorted[:5]:\n",
    "    print(format_crisis.format(loop[1],loop[0]))"
   ]
  },
  {
   "cell_type": "markdown",
   "metadata": {},
   "source": [
    "As we can see, most of the crisis that lead to systemic crises are banking crisis. From this alone, we can conclude that most of systemic crises in Africa were related to economic issues."
   ]
  }
 ],
 "metadata": {
  "kernelspec": {
   "display_name": "Python 3",
   "language": "python",
   "name": "python3"
  },
  "language_info": {
   "codemirror_mode": {
    "name": "ipython",
    "version": 3
   },
   "file_extension": ".py",
   "mimetype": "text/x-python",
   "name": "python",
   "nbconvert_exporter": "python",
   "pygments_lexer": "ipython3",
   "version": "3.7.3"
  }
 },
 "nbformat": 4,
 "nbformat_minor": 2
}

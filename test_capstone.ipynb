{
  "nbformat": 4,
  "nbformat_minor": 0,
  "metadata": {
    "colab": {
      "name": "test capstone.ipynb",
      "provenance": [],
      "authorship_tag": "ABX9TyMGtbvuy1sZ9ywtT03JkC4u",
      "include_colab_link": true
    },
    "kernelspec": {
      "name": "python3",
      "display_name": "Python 3"
    },
    "language_info": {
      "name": "python"
    },
    "accelerator": "GPU"
  },
  "cells": [
    {
      "cell_type": "markdown",
      "metadata": {
        "id": "view-in-github",
        "colab_type": "text"
      },
      "source": [
        "<a href=\"https://colab.research.google.com/github/kevkn2/projects-mine/blob/main/test_capstone.ipynb\" target=\"_parent\"><img src=\"https://colab.research.google.com/assets/colab-badge.svg\" alt=\"Open In Colab\"/></a>"
      ]
    },
    {
      "cell_type": "code",
      "source": [
        "!unrar x \"/content/TRAIN.rar\" \"/content/\"\n",
        "!unrar x \"/content/VAL.rar\" \"/content/\""
      ],
      "metadata": {
        "colab": {
          "base_uri": "https://localhost:8080/"
        },
        "id": "InRzUzidbYA4",
        "outputId": "29e3479e-fbf5-4fcd-8cfe-067f5b6bedfa"
      },
      "execution_count": 1,
      "outputs": [
        {
          "output_type": "stream",
          "name": "stdout",
          "text": [
            "\n",
            "UNRAR 5.50 freeware      Copyright (c) 1993-2017 Alexander Roshal\n",
            "\n",
            "\n",
            "Extracting from /content/TRAIN.rar\n",
            "\n",
            "Creating    /content/TRAIN                                            OK\n",
            "Creating    /content/TRAIN/Kain Tenun Toraja                          OK\n",
            "Extracting  /content/TRAIN/Kain Tenun Toraja/toraja1.jpg                 \b\b\b\b  0%\b\b\b\b  1%\b\b\b\b\b  OK \n",
            "Extracting  /content/TRAIN/Kain Tenun Toraja/toraja10.jpg                \b\b\b\b  2%\b\b\b\b  3%\b\b\b\b  4%\b\b\b\b\b  OK \n",
            "Extracting  /content/TRAIN/Kain Tenun Toraja/toraja2.jpg                 \b\b\b\b  8%\b\b\b\b\b  OK \n",
            "Extracting  /content/TRAIN/Kain Tenun Toraja/toraja3.jpg                 \b\b\b\b 15%\b\b\b\b\b  OK \n",
            "Extracting  /content/TRAIN/Kain Tenun Toraja/toraja5.jpg                 \b\b\b\b 16%\b\b\b\b 17%\b\b\b\b 18%\b\b\b\b 19%\b\b\b\b\b  OK \n",
            "Extracting  /content/TRAIN/Kain Tenun Toraja/toraja6.jpg                 \b\b\b\b 20%\b\b\b\b 21%\b\b\b\b 22%\b\b\b\b 23%\b\b\b\b 24%\b\b\b\b 25%\b\b\b\b 26%\b\b\b\b 27%\b\b\b\b\b  OK \n",
            "Extracting  /content/TRAIN/Kain Tenun Toraja/toraja8.jpg                 \b\b\b\b 28%\b\b\b\b\b  OK \n",
            "Extracting  /content/TRAIN/Kain Tenun Toraja/toraja9.jpg                 \b\b\b\b 29%\b\b\b\b 30%\b\b\b\b 31%\b\b\b\b 32%\b\b\b\b 33%\b\b\b\b 34%\b\b\b\b 35%\b\b\b\b 36%\b\b\b\b\b  OK \n",
            "Creating    /content/TRAIN/Kain Tenun Ulos Sumatera Utara             OK\n",
            "Extracting  /content/TRAIN/Kain Tenun Ulos Sumatera Utara/4126951544.jpg     \b\b\b\b 37%\b\b\b\b 38%\b\b\b\b 39%\b\b\b\b 40%\b\b\b\b 41%\b\b\b\b 42%\b\b\b\b 43%\b\b\b\b 44%\b\b\b\b 45%\b\b\b\b\b  OK \n",
            "Extracting  /content/TRAIN/Kain Tenun Ulos Sumatera Utara/53755-kain-ulos.jpg     \b\b\b\b 47%\b\b\b\b\b  OK \n",
            "Extracting  /content/TRAIN/Kain Tenun Ulos Sumatera Utara/621c6c100fc46.jpg     \b\b\b\b 47%\b\b\b\b 48%\b\b\b\b 49%\b\b\b\b\b  OK \n",
            "Extracting  /content/TRAIN/Kain Tenun Ulos Sumatera Utara/image2.jpg     \b\b\b\b 56%\b\b\b\b 61%\b\b\b\b\b  OK \n",
            "Extracting  /content/TRAIN/Kain Tenun Ulos Sumatera Utara/kain-ulos-ragidup12011.jpg     \b\b\b\b 62%\b\b\b\b\b  OK \n",
            "Extracting  /content/TRAIN/Kain Tenun Ulos Sumatera Utara/Screenshot 2022-05-11 183636.jpg     \b\b\b\b 63%\b\b\b\b 64%\b\b\b\b\b  OK \n",
            "Extracting  /content/TRAIN/Kain Tenun Ulos Sumatera Utara/songket_palembang1.jpg     \b\b\b\b 66%\b\b\b\b\b  OK \n",
            "Extracting  /content/TRAIN/Kain Tenun Ulos Sumatera Utara/ulos.jpg       \b\b\b\b 66%\b\b\b\b 67%\b\b\b\b\b  OK \n",
            "Creating    /content/TRAIN/Tenun Lurik Jawa Tengah                    OK\n",
            "Extracting  /content/TRAIN/Tenun Lurik Jawa Tengah/0_543729b4-11c9-40bd-831f-b9ed8fee4fd3_960_1280.jpg     \b\b\b\b 69%\b\b\b\b\b  OK \n",
            "Extracting  /content/TRAIN/Tenun Lurik Jawa Tengah/2-MOTIF-KLUWUNG-FITINLINE.jpg     \b\b\b\b 69%\b\b\b\b\b  OK \n",
            "Extracting  /content/TRAIN/Tenun Lurik Jawa Tengah/201924102922999_01d4c892-4fe2-46e1-bf6f-91c1ef491f8a_1224_1224.jpg     \b\b\b\b 70%\b\b\b\b 71%\b\b\b\b 72%\b\b\b\b 73%\b\b\b\b 74%\b\b\b\b\b  OK \n",
            "Extracting  /content/TRAIN/Tenun Lurik Jawa Tengah/data.jpg              \b\b\b\b 75%\b\b\b\b\b  OK \n",
            "Extracting  /content/TRAIN/Tenun Lurik Jawa Tengah/kain-lurik-0.jpg      \b\b\b\b 75%\b\b\b\b 76%\b\b\b\b 77%\b\b\b\b 78%\b\b\b\b\b  OK \n",
            "Extracting  /content/TRAIN/Tenun Lurik Jawa Tengah/tenun-aida-tenun-81.jpg     \b\b\b\b 81%\b\b\b\b\b  OK \n",
            "Extracting  /content/TRAIN/Tenun Lurik Jawa Tengah/tnn-0032.jpg          \b\b\b\b 82%\b\b\b\b 83%\b\b\b\b 84%\b\b\b\b 85%\b\b\b\b 86%\b\b\b\b 87%\b\b\b\b 88%\b\b\b\b 89%\b\b\b\b\b  OK \n",
            "Extracting  /content/TRAIN/Tenun Lurik Jawa Tengah/tnn-0041.jpg          \b\b\b\b 90%\b\b\b\b 91%\b\b\b\b 92%\b\b\b\b 93%\b\b\b\b 94%\b\b\b\b 95%\b\b\b\b 96%\b\b\b\b 97%\b\b\b\b 98%\b\b\b\b 99%\b\b\b\b\b  OK \n",
            "All OK\n",
            "\n",
            "UNRAR 5.50 freeware      Copyright (c) 1993-2017 Alexander Roshal\n",
            "\n",
            "\n",
            "Extracting from /content/VAL.rar\n",
            "\n",
            "Creating    /content/VAL                                              OK\n",
            "Creating    /content/VAL/Kain Tenun Toraja                            OK\n",
            "Extracting  /content/VAL/Kain Tenun Toraja/toraja1.jpg                   \b\b\b\b  2%\b\b\b\b  4%\b\b\b\b\b  OK \n",
            "Extracting  /content/VAL/Kain Tenun Toraja/toraja2.jpg                   \b\b\b\b 18%\b\b\b\b\b  OK \n",
            "Extracting  /content/VAL/Kain Tenun Toraja/toraja3.jpg                   \b\b\b\b 42%\b\b\b\b 45%\b\b\b\b\b  OK \n",
            "Extracting  /content/VAL/Kain Tenun Toraja/toraja4.jpg                   \b\b\b\b 46%\b\b\b\b\b  OK \n",
            "Extracting  /content/VAL/Kain Tenun Toraja/toraja7.jpg                   \b\b\b\b 57%\b\b\b\b\b  OK \n",
            "Creating    /content/VAL/Kain Tenun Ulos Sumatera Utara               OK\n",
            "Extracting  /content/VAL/Kain Tenun Ulos Sumatera Utara/data.jpg         \b\b\b\b 61%\b\b\b\b\b  OK \n",
            "Extracting  /content/VAL/Kain Tenun Ulos Sumatera Utara/ulos2.jpg        \b\b\b\b 64%\b\b\b\b 67%\b\b\b\b 70%\b\b\b\b 72%\b\b\b\b 75%\b\b\b\b 78%\b\b\b\b 80%\b\b\b\b\b  OK \n",
            "Creating    /content/VAL/Tenun Lurik Jawa Tengah                      OK\n",
            "Extracting  /content/VAL/Tenun Lurik Jawa Tengah/634a5f16ba0413f826633e24cd22f0dc.jpg     \b\b\b\b 83%\b\b\b\b 86%\b\b\b\b 88%\b\b\b\b\b  OK \n",
            "Extracting  /content/VAL/Tenun Lurik Jawa Tengah/inv_e2c4cadf-1d5b-44ca-b1e9-65faf3071807_672_672.jpg     \b\b\b\b 99%\b\b\b\b\b  OK \n",
            "All OK\n"
          ]
        }
      ]
    },
    {
      "cell_type": "code",
      "execution_count": 11,
      "metadata": {
        "colab": {
          "base_uri": "https://localhost:8080/"
        },
        "id": "4-TppZPchX-L",
        "outputId": "0082a4fe-3997-4593-d6b9-225995e26901"
      },
      "outputs": [
        {
          "output_type": "stream",
          "name": "stdout",
          "text": [
            "Found 24 images belonging to 3 classes.\n",
            "Found 9 images belonging to 3 classes.\n"
          ]
        }
      ],
      "source": [
        "import tensorflow as tf\n",
        "import numpy as np\n",
        "import os\n",
        "from keras.preprocessing import image\n",
        "from tensorflow.keras.preprocessing.image import ImageDataGenerator\n",
        "import tensorflow_hub as hub\n",
        "\n",
        "train_datagen = ImageDataGenerator(rescale=1.0/255.0,\n",
        "                                   rotation_range=45,\n",
        "                                   width_shift_range=0.2,\n",
        "                                   height_shift_range=0.2,\n",
        "                                   shear_range=0.2,\n",
        "                                   zoom_range=0.2,\n",
        "                                   horizontal_flip=True,\n",
        "                                   vertical_flip=True,\n",
        "                                   fill_mode='nearest')\n",
        "\n",
        "val_datagen = ImageDataGenerator(rescale=1.0/255.0)\n",
        "\n",
        "train_generator = train_datagen.flow_from_directory(\n",
        "        '/content/TRAIN',\n",
        "        target_size=(224,224),\n",
        "        batch_size=2,\n",
        "        class_mode='categorical')\n",
        "\n",
        "val_generator = val_datagen.flow_from_directory(\n",
        "        '/content/VAL',\n",
        "        target_size=(224,224),\n",
        "        batch_size=2,\n",
        "        class_mode='categorical')"
      ]
    },
    {
      "cell_type": "code",
      "source": [
        "model_transfer = tf.keras.applications.resnet50.ResNet50(\n",
        "    input_shape=(224,224,3)\n",
        ")"
      ],
      "metadata": {
        "id": "sT369SCbmh9V"
      },
      "execution_count": 20,
      "outputs": []
    },
    {
      "cell_type": "code",
      "source": [
        "x = tf.keras.layers.Dense(512, activation=\"relu\")(model_transfer.output)\n",
        "x = tf.keras.layers.Dropout(0.2)(x)\n",
        "x = tf.keras.layers.Dense(3, activation=\"softmax\")(x)\n",
        "model = tf.keras.Model(model_transfer.input, x)\n",
        "\n",
        "#model = tf.keras.models.Sequential([\n",
        "#    tf.keras.layers.Conv2D(16, (3,3), activation='relu', input_shape=(300,300,3)),\n",
        "#    tf.keras.layers.MaxPooling2D(2,2),\n",
        "#    tf.keras.layers.Conv2D(32, (3,3), activation='relu'),\n",
        "#    tf.keras.layers.MaxPooling2D(2,2),\n",
        "#    tf.keras.layers.Conv2D(64, (3,3), activation='relu'),\n",
        "#    tf.keras.layers.MaxPooling2D(2,2),\n",
        "#    tf.keras.layers.Flatten(),\n",
        "#    tf.keras.layers.Dense(512, activation = 'relu'),\n",
        "#    tf.keras.layers.Dense(3, activation = 'softmax')\n",
        "#])\n",
        "\n",
        "model.compile(loss='categorical_crossentropy',\n",
        "              optimizer=tf.keras.optimizers.RMSprop(learning_rate=0.0001),\n",
        "              metrics=['accuracy'])\n",
        "\n",
        "history = model.fit(train_generator,\n",
        "                    validation_data=val_generator,\n",
        "                    epochs=15,\n",
        "                    verbose=1)"
      ],
      "metadata": {
        "colab": {
          "base_uri": "https://localhost:8080/"
        },
        "id": "2bl8p_lXmf1U",
        "outputId": "1180da0f-c1e1-40e0-d1eb-6adc72a49a2d"
      },
      "execution_count": 14,
      "outputs": [
        {
          "output_type": "stream",
          "name": "stdout",
          "text": [
            "Epoch 1/15\n",
            "12/12 [==============================] - 13s 178ms/step - loss: 1.0949 - accuracy: 0.2083 - val_loss: 1.1047 - val_accuracy: 0.2222\n",
            "Epoch 2/15\n",
            "12/12 [==============================] - 1s 88ms/step - loss: 1.0905 - accuracy: 0.4583 - val_loss: 1.1050 - val_accuracy: 0.2222\n",
            "Epoch 3/15\n",
            "12/12 [==============================] - 1s 90ms/step - loss: 1.0805 - accuracy: 0.5000 - val_loss: 1.1069 - val_accuracy: 0.2222\n",
            "Epoch 4/15\n",
            "12/12 [==============================] - 1s 90ms/step - loss: 1.0661 - accuracy: 0.6667 - val_loss: 1.1074 - val_accuracy: 0.2222\n",
            "Epoch 5/15\n",
            "12/12 [==============================] - 1s 89ms/step - loss: 1.0690 - accuracy: 0.5417 - val_loss: 1.1112 - val_accuracy: 0.2222\n",
            "Epoch 6/15\n",
            "12/12 [==============================] - 1s 89ms/step - loss: 1.0565 - accuracy: 0.6667 - val_loss: 1.1058 - val_accuracy: 0.1111\n",
            "Epoch 7/15\n",
            "12/12 [==============================] - 1s 89ms/step - loss: 1.0531 - accuracy: 0.6667 - val_loss: 1.1076 - val_accuracy: 0.2222\n",
            "Epoch 8/15\n",
            "12/12 [==============================] - 1s 91ms/step - loss: 1.0478 - accuracy: 0.7917 - val_loss: 1.1022 - val_accuracy: 0.2222\n",
            "Epoch 9/15\n",
            "12/12 [==============================] - 1s 89ms/step - loss: 1.0221 - accuracy: 0.8333 - val_loss: 1.1006 - val_accuracy: 0.2222\n",
            "Epoch 10/15\n",
            "12/12 [==============================] - 1s 92ms/step - loss: 1.0303 - accuracy: 0.7917 - val_loss: 1.1098 - val_accuracy: 0.2222\n",
            "Epoch 11/15\n",
            "12/12 [==============================] - 1s 90ms/step - loss: 1.0385 - accuracy: 0.7500 - val_loss: 1.1324 - val_accuracy: 0.2222\n",
            "Epoch 12/15\n",
            "12/12 [==============================] - 1s 91ms/step - loss: 1.0201 - accuracy: 0.7083 - val_loss: 1.1173 - val_accuracy: 0.2222\n",
            "Epoch 13/15\n",
            "12/12 [==============================] - 1s 89ms/step - loss: 1.0048 - accuracy: 0.7917 - val_loss: 1.1358 - val_accuracy: 0.2222\n",
            "Epoch 14/15\n",
            "12/12 [==============================] - 1s 85ms/step - loss: 1.0008 - accuracy: 0.7917 - val_loss: 1.1397 - val_accuracy: 0.2222\n",
            "Epoch 15/15\n",
            "12/12 [==============================] - 1s 88ms/step - loss: 0.9704 - accuracy: 0.8333 - val_loss: 1.1433 - val_accuracy: 0.2222\n"
          ]
        }
      ]
    },
    {
      "cell_type": "code",
      "source": [
        "img = image.load_img('/content/toraja7.jpg', target_size=(224,224))\n",
        "x = image.img_to_array(img)\n",
        "x = x/255\n",
        "x = np.expand_dims(x, axis=0)\n",
        "\n",
        "images = np.vstack([x])\n",
        "classes = model.predict(images, batch_size=2)\n",
        "for result in classes:\n",
        "  print(result)\n"
      ],
      "metadata": {
        "id": "LEA4i57TkS2K",
        "colab": {
          "base_uri": "https://localhost:8080/"
        },
        "outputId": "fbaa5f3d-6a8e-4021-9ef1-93558db86ed2"
      },
      "execution_count": 19,
      "outputs": [
        {
          "output_type": "stream",
          "name": "stdout",
          "text": [
            "[0.29477593 0.3807018  0.32452226]\n"
          ]
        }
      ]
    }
  ]
}
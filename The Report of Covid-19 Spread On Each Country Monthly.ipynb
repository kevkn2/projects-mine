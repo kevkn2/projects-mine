{
 "cells": [
  {
   "cell_type": "markdown",
   "metadata": {},
   "source": [
    "<h1>The Report of Covid-19 Spread On Each Country Monthly</h1>\n",
    "\n",
    "I use the dataset from [here](https://github.com/CSSEGISandData/COVID-19).\n",
    "\n",
    "The file that we will be using are time_series_covid19_confirmed_global.csv, which consists of the amount of confirmed case every day."
   ]
  },
  {
   "cell_type": "code",
   "execution_count": 1,
   "metadata": {},
   "outputs": [
    {
     "data": {
      "text/html": [
       "<div>\n",
       "<style scoped>\n",
       "    .dataframe tbody tr th:only-of-type {\n",
       "        vertical-align: middle;\n",
       "    }\n",
       "\n",
       "    .dataframe tbody tr th {\n",
       "        vertical-align: top;\n",
       "    }\n",
       "\n",
       "    .dataframe thead th {\n",
       "        text-align: right;\n",
       "    }\n",
       "</style>\n",
       "<table border=\"1\" class=\"dataframe\">\n",
       "  <thead>\n",
       "    <tr style=\"text-align: right;\">\n",
       "      <th></th>\n",
       "      <th>Province/State</th>\n",
       "      <th>Country/Region</th>\n",
       "      <th>Lat</th>\n",
       "      <th>Long</th>\n",
       "      <th>1/22/20</th>\n",
       "      <th>1/23/20</th>\n",
       "      <th>1/24/20</th>\n",
       "      <th>1/25/20</th>\n",
       "      <th>1/26/20</th>\n",
       "      <th>1/27/20</th>\n",
       "      <th>...</th>\n",
       "      <th>4/19/20</th>\n",
       "      <th>4/20/20</th>\n",
       "      <th>4/21/20</th>\n",
       "      <th>4/22/20</th>\n",
       "      <th>4/23/20</th>\n",
       "      <th>4/24/20</th>\n",
       "      <th>4/25/20</th>\n",
       "      <th>4/26/20</th>\n",
       "      <th>4/27/20</th>\n",
       "      <th>4/28/20</th>\n",
       "    </tr>\n",
       "  </thead>\n",
       "  <tbody>\n",
       "    <tr>\n",
       "      <th>0</th>\n",
       "      <td>NaN</td>\n",
       "      <td>Afghanistan</td>\n",
       "      <td>33.0000</td>\n",
       "      <td>65.0000</td>\n",
       "      <td>0</td>\n",
       "      <td>0</td>\n",
       "      <td>0</td>\n",
       "      <td>0</td>\n",
       "      <td>0</td>\n",
       "      <td>0</td>\n",
       "      <td>...</td>\n",
       "      <td>996</td>\n",
       "      <td>1026</td>\n",
       "      <td>1092</td>\n",
       "      <td>1176</td>\n",
       "      <td>1279</td>\n",
       "      <td>1351</td>\n",
       "      <td>1463</td>\n",
       "      <td>1531</td>\n",
       "      <td>1703</td>\n",
       "      <td>1828</td>\n",
       "    </tr>\n",
       "    <tr>\n",
       "      <th>1</th>\n",
       "      <td>NaN</td>\n",
       "      <td>Albania</td>\n",
       "      <td>41.1533</td>\n",
       "      <td>20.1683</td>\n",
       "      <td>0</td>\n",
       "      <td>0</td>\n",
       "      <td>0</td>\n",
       "      <td>0</td>\n",
       "      <td>0</td>\n",
       "      <td>0</td>\n",
       "      <td>...</td>\n",
       "      <td>562</td>\n",
       "      <td>584</td>\n",
       "      <td>609</td>\n",
       "      <td>634</td>\n",
       "      <td>663</td>\n",
       "      <td>678</td>\n",
       "      <td>712</td>\n",
       "      <td>726</td>\n",
       "      <td>736</td>\n",
       "      <td>750</td>\n",
       "    </tr>\n",
       "    <tr>\n",
       "      <th>2</th>\n",
       "      <td>NaN</td>\n",
       "      <td>Algeria</td>\n",
       "      <td>28.0339</td>\n",
       "      <td>1.6596</td>\n",
       "      <td>0</td>\n",
       "      <td>0</td>\n",
       "      <td>0</td>\n",
       "      <td>0</td>\n",
       "      <td>0</td>\n",
       "      <td>0</td>\n",
       "      <td>...</td>\n",
       "      <td>2629</td>\n",
       "      <td>2718</td>\n",
       "      <td>2811</td>\n",
       "      <td>2910</td>\n",
       "      <td>3007</td>\n",
       "      <td>3127</td>\n",
       "      <td>3256</td>\n",
       "      <td>3382</td>\n",
       "      <td>3517</td>\n",
       "      <td>3649</td>\n",
       "    </tr>\n",
       "    <tr>\n",
       "      <th>3</th>\n",
       "      <td>NaN</td>\n",
       "      <td>Andorra</td>\n",
       "      <td>42.5063</td>\n",
       "      <td>1.5218</td>\n",
       "      <td>0</td>\n",
       "      <td>0</td>\n",
       "      <td>0</td>\n",
       "      <td>0</td>\n",
       "      <td>0</td>\n",
       "      <td>0</td>\n",
       "      <td>...</td>\n",
       "      <td>713</td>\n",
       "      <td>717</td>\n",
       "      <td>717</td>\n",
       "      <td>723</td>\n",
       "      <td>723</td>\n",
       "      <td>731</td>\n",
       "      <td>738</td>\n",
       "      <td>738</td>\n",
       "      <td>743</td>\n",
       "      <td>743</td>\n",
       "    </tr>\n",
       "    <tr>\n",
       "      <th>4</th>\n",
       "      <td>NaN</td>\n",
       "      <td>Angola</td>\n",
       "      <td>-11.2027</td>\n",
       "      <td>17.8739</td>\n",
       "      <td>0</td>\n",
       "      <td>0</td>\n",
       "      <td>0</td>\n",
       "      <td>0</td>\n",
       "      <td>0</td>\n",
       "      <td>0</td>\n",
       "      <td>...</td>\n",
       "      <td>24</td>\n",
       "      <td>24</td>\n",
       "      <td>24</td>\n",
       "      <td>25</td>\n",
       "      <td>25</td>\n",
       "      <td>25</td>\n",
       "      <td>25</td>\n",
       "      <td>26</td>\n",
       "      <td>27</td>\n",
       "      <td>27</td>\n",
       "    </tr>\n",
       "  </tbody>\n",
       "</table>\n",
       "<p>5 rows × 102 columns</p>\n",
       "</div>"
      ],
      "text/plain": [
       "  Province/State Country/Region      Lat     Long  1/22/20  1/23/20  1/24/20  \\\n",
       "0            NaN    Afghanistan  33.0000  65.0000        0        0        0   \n",
       "1            NaN        Albania  41.1533  20.1683        0        0        0   \n",
       "2            NaN        Algeria  28.0339   1.6596        0        0        0   \n",
       "3            NaN        Andorra  42.5063   1.5218        0        0        0   \n",
       "4            NaN         Angola -11.2027  17.8739        0        0        0   \n",
       "\n",
       "   1/25/20  1/26/20  1/27/20  ...  4/19/20  4/20/20  4/21/20  4/22/20  \\\n",
       "0        0        0        0  ...      996     1026     1092     1176   \n",
       "1        0        0        0  ...      562      584      609      634   \n",
       "2        0        0        0  ...     2629     2718     2811     2910   \n",
       "3        0        0        0  ...      713      717      717      723   \n",
       "4        0        0        0  ...       24       24       24       25   \n",
       "\n",
       "   4/23/20  4/24/20  4/25/20  4/26/20  4/27/20  4/28/20  \n",
       "0     1279     1351     1463     1531     1703     1828  \n",
       "1      663      678      712      726      736      750  \n",
       "2     3007     3127     3256     3382     3517     3649  \n",
       "3      723      731      738      738      743      743  \n",
       "4       25       25       25       26       27       27  \n",
       "\n",
       "[5 rows x 102 columns]"
      ]
     },
     "execution_count": 1,
     "metadata": {},
     "output_type": "execute_result"
    }
   ],
   "source": [
    "#import required modules\n",
    "import numpy as np\n",
    "import pandas as pd\n",
    "import matplotlib.pyplot as plt\n",
    "\n",
    "#call the dataset\n",
    "dataset = pd.read_csv(\"E:/COVID_19/time_series_covid19_confirmed_global.csv\")\n",
    "\n",
    "dataset.head()"
   ]
  },
  {
   "cell_type": "code",
   "execution_count": 2,
   "metadata": {},
   "outputs": [
    {
     "name": "stdout",
     "output_type": "stream",
     "text": [
      "<class 'pandas.core.frame.DataFrame'>\n",
      "RangeIndex: 264 entries, 0 to 263\n",
      "Columns: 102 entries, Province/State to 4/28/20\n",
      "dtypes: float64(2), int64(98), object(2)\n",
      "memory usage: 210.5+ KB\n"
     ]
    }
   ],
   "source": [
    "dataset.info()"
   ]
  },
  {
   "cell_type": "markdown",
   "metadata": {},
   "source": [
    "From the info, there are some things that need to fixed, that is:\n",
    "- List the time line into monthly, not daily, so its easier to understand.\n",
    "- We need to do something about the province/state column.\n",
    "- Set the column names, so it all consists of lowercases"
   ]
  },
  {
   "cell_type": "code",
   "execution_count": 3,
   "metadata": {},
   "outputs": [
    {
     "data": {
      "text/html": [
       "<div>\n",
       "<style scoped>\n",
       "    .dataframe tbody tr th:only-of-type {\n",
       "        vertical-align: middle;\n",
       "    }\n",
       "\n",
       "    .dataframe tbody tr th {\n",
       "        vertical-align: top;\n",
       "    }\n",
       "\n",
       "    .dataframe thead th {\n",
       "        text-align: right;\n",
       "    }\n",
       "</style>\n",
       "<table border=\"1\" class=\"dataframe\">\n",
       "  <thead>\n",
       "    <tr style=\"text-align: right;\">\n",
       "      <th></th>\n",
       "      <th>province/state</th>\n",
       "      <th>country/region</th>\n",
       "      <th>lat</th>\n",
       "      <th>long</th>\n",
       "      <th>1/22/20</th>\n",
       "      <th>1/23/20</th>\n",
       "      <th>1/24/20</th>\n",
       "      <th>1/25/20</th>\n",
       "      <th>1/26/20</th>\n",
       "      <th>1/27/20</th>\n",
       "      <th>...</th>\n",
       "      <th>4/23/20</th>\n",
       "      <th>4/24/20</th>\n",
       "      <th>4/25/20</th>\n",
       "      <th>4/26/20</th>\n",
       "      <th>4/27/20</th>\n",
       "      <th>4/28/20</th>\n",
       "      <th>january</th>\n",
       "      <th>february</th>\n",
       "      <th>march</th>\n",
       "      <th>april</th>\n",
       "    </tr>\n",
       "  </thead>\n",
       "  <tbody>\n",
       "    <tr>\n",
       "      <th>0</th>\n",
       "      <td>NaN</td>\n",
       "      <td>Afghanistan</td>\n",
       "      <td>33.0000</td>\n",
       "      <td>65.0000</td>\n",
       "      <td>0</td>\n",
       "      <td>0</td>\n",
       "      <td>0</td>\n",
       "      <td>0</td>\n",
       "      <td>0</td>\n",
       "      <td>0</td>\n",
       "      <td>...</td>\n",
       "      <td>1279</td>\n",
       "      <td>1351</td>\n",
       "      <td>1463</td>\n",
       "      <td>1531</td>\n",
       "      <td>1703</td>\n",
       "      <td>1828</td>\n",
       "      <td>0</td>\n",
       "      <td>1</td>\n",
       "      <td>174</td>\n",
       "      <td>1828</td>\n",
       "    </tr>\n",
       "    <tr>\n",
       "      <th>1</th>\n",
       "      <td>NaN</td>\n",
       "      <td>Albania</td>\n",
       "      <td>41.1533</td>\n",
       "      <td>20.1683</td>\n",
       "      <td>0</td>\n",
       "      <td>0</td>\n",
       "      <td>0</td>\n",
       "      <td>0</td>\n",
       "      <td>0</td>\n",
       "      <td>0</td>\n",
       "      <td>...</td>\n",
       "      <td>663</td>\n",
       "      <td>678</td>\n",
       "      <td>712</td>\n",
       "      <td>726</td>\n",
       "      <td>736</td>\n",
       "      <td>750</td>\n",
       "      <td>0</td>\n",
       "      <td>0</td>\n",
       "      <td>243</td>\n",
       "      <td>750</td>\n",
       "    </tr>\n",
       "    <tr>\n",
       "      <th>2</th>\n",
       "      <td>NaN</td>\n",
       "      <td>Algeria</td>\n",
       "      <td>28.0339</td>\n",
       "      <td>1.6596</td>\n",
       "      <td>0</td>\n",
       "      <td>0</td>\n",
       "      <td>0</td>\n",
       "      <td>0</td>\n",
       "      <td>0</td>\n",
       "      <td>0</td>\n",
       "      <td>...</td>\n",
       "      <td>3007</td>\n",
       "      <td>3127</td>\n",
       "      <td>3256</td>\n",
       "      <td>3382</td>\n",
       "      <td>3517</td>\n",
       "      <td>3649</td>\n",
       "      <td>0</td>\n",
       "      <td>1</td>\n",
       "      <td>716</td>\n",
       "      <td>3649</td>\n",
       "    </tr>\n",
       "    <tr>\n",
       "      <th>3</th>\n",
       "      <td>NaN</td>\n",
       "      <td>Andorra</td>\n",
       "      <td>42.5063</td>\n",
       "      <td>1.5218</td>\n",
       "      <td>0</td>\n",
       "      <td>0</td>\n",
       "      <td>0</td>\n",
       "      <td>0</td>\n",
       "      <td>0</td>\n",
       "      <td>0</td>\n",
       "      <td>...</td>\n",
       "      <td>723</td>\n",
       "      <td>731</td>\n",
       "      <td>738</td>\n",
       "      <td>738</td>\n",
       "      <td>743</td>\n",
       "      <td>743</td>\n",
       "      <td>0</td>\n",
       "      <td>0</td>\n",
       "      <td>376</td>\n",
       "      <td>743</td>\n",
       "    </tr>\n",
       "    <tr>\n",
       "      <th>4</th>\n",
       "      <td>NaN</td>\n",
       "      <td>Angola</td>\n",
       "      <td>-11.2027</td>\n",
       "      <td>17.8739</td>\n",
       "      <td>0</td>\n",
       "      <td>0</td>\n",
       "      <td>0</td>\n",
       "      <td>0</td>\n",
       "      <td>0</td>\n",
       "      <td>0</td>\n",
       "      <td>...</td>\n",
       "      <td>25</td>\n",
       "      <td>25</td>\n",
       "      <td>25</td>\n",
       "      <td>26</td>\n",
       "      <td>27</td>\n",
       "      <td>27</td>\n",
       "      <td>0</td>\n",
       "      <td>0</td>\n",
       "      <td>7</td>\n",
       "      <td>27</td>\n",
       "    </tr>\n",
       "  </tbody>\n",
       "</table>\n",
       "<p>5 rows × 106 columns</p>\n",
       "</div>"
      ],
      "text/plain": [
       "  province/state country/region      lat     long  1/22/20  1/23/20  1/24/20  \\\n",
       "0            NaN    Afghanistan  33.0000  65.0000        0        0        0   \n",
       "1            NaN        Albania  41.1533  20.1683        0        0        0   \n",
       "2            NaN        Algeria  28.0339   1.6596        0        0        0   \n",
       "3            NaN        Andorra  42.5063   1.5218        0        0        0   \n",
       "4            NaN         Angola -11.2027  17.8739        0        0        0   \n",
       "\n",
       "   1/25/20  1/26/20  1/27/20  ...  4/23/20  4/24/20  4/25/20  4/26/20  \\\n",
       "0        0        0        0  ...     1279     1351     1463     1531   \n",
       "1        0        0        0  ...      663      678      712      726   \n",
       "2        0        0        0  ...     3007     3127     3256     3382   \n",
       "3        0        0        0  ...      723      731      738      738   \n",
       "4        0        0        0  ...       25       25       25       26   \n",
       "\n",
       "   4/27/20  4/28/20  january  february  march  april  \n",
       "0     1703     1828        0         1    174   1828  \n",
       "1      736      750        0         0    243    750  \n",
       "2     3517     3649        0         1    716   3649  \n",
       "3      743      743        0         0    376    743  \n",
       "4       27       27        0         0      7     27  \n",
       "\n",
       "[5 rows x 106 columns]"
      ]
     },
     "execution_count": 3,
     "metadata": {},
     "output_type": "execute_result"
    }
   ],
   "source": [
    "#create a new dataset for the time\n",
    "time_list_end = [\"1/31/20\", \"2/29/20\", \"3/31/20\", \"4/28/20\"]\n",
    "time_list_month = [\"january\", \"february\", \"march\", \"april\"]\n",
    "\n",
    "for loop in range(len(time_list_end)):\n",
    "    dataset[time_list_month[loop]] = dataset[time_list_end[loop]]\n",
    "\n",
    "#lets also set the column names\n",
    "dataset.columns = map(str.lower, dataset.columns)\n",
    "dataset.head()"
   ]
  },
  {
   "cell_type": "code",
   "execution_count": 4,
   "metadata": {},
   "outputs": [
    {
     "data": {
      "text/plain": [
       "array([   0,    4,    2,    3,    1,  237,  139,  211,  120,   29,  436,\n",
       "         87,   52,   82,   59,  352,   12, 5806,  332,   20,  168,  240,\n",
       "         14,   48,    7,   21,    8,  184,  135,   39,  177,   32,   17,\n",
       "         83,  538,    5,   15,   11,   13,   10,   19], dtype=int64)"
      ]
     },
     "execution_count": 4,
     "metadata": {},
     "output_type": "execute_result"
    }
   ],
   "source": [
    "#lets look at the values in each month\n",
    "dataset[\"january\"].unique()"
   ]
  },
  {
   "cell_type": "code",
   "execution_count": 5,
   "metadata": {},
   "outputs": [
    {
     "data": {
      "text/plain": [
       "array([    1,     0,     4,     9,     3,     7,     2,    41,     8,\n",
       "          11,   990,   411,   576,   296,    91,  1349,   252,   146,\n",
       "         168,   318,   480,  1272,    95, 66337,  1018,    75,   631,\n",
       "         935,    93,   121,    10,    73,    18,   245,   756,   337,\n",
       "         133,   538,   136,    76,   174,  1205,     6,   705,   100,\n",
       "          79,   593,    13,  1128,   241,  3150,    45,    25,    15,\n",
       "         102,    12,    39,    42,    21,    23,    68,    16],\n",
       "      dtype=int64)"
      ]
     },
     "execution_count": 5,
     "metadata": {},
     "output_type": "execute_result"
    }
   ],
   "source": [
    "dataset[\"february\"].unique()"
   ]
  },
  {
   "cell_type": "code",
   "execution_count": 6,
   "metadata": {},
   "outputs": [
    {
     "data": {
      "text/plain": [
       "array([   174,    243,    716,    376,      7,   1054,    532,     80,\n",
       "         2032,     17,    743,    337,     69,    917,    364,  10180,\n",
       "          298,     14,    567,     51,     34,    152,  12775,      9,\n",
       "            4,    107,    420,   5717,    129,    399,    261,      6,\n",
       "          109,    193,    690,   1013,     13,    103,     70,    147,\n",
       "         1966,     21,   4162,    184,      3,   2738,    990,    580,\n",
       "          579,    343,    138,   1494,    254,    146,    168,    321,\n",
       "          484,   1276,    714,  67801,   1018,    646,    937,     98,\n",
       "          139,     41,     75,     18,    253,    774,    509,    136,\n",
       "          550,      1,     76,    182,   1257,    906,     19,    347,\n",
       "          179,    867,    712,    186,    262,   3308,    169,     10,\n",
       "         2860,     30,   1109,   2240,    710,     32,     12,     15,\n",
       "          745,     26,      5,   1418,     43,     36,    114,     94,\n",
       "           16,    247,    128,  52128,    110,  71808,    161,   1314,\n",
       "           38,     22,    141,    492,   1135,   1397,   1528,  44605,\n",
       "          694,   3235,   5358, 105792,   1953,    274,     59,   9786,\n",
       "          289,    398,    470,     68,    537,   2178,     57,   2766,\n",
       "          143,   1215,    353,     52,    617,     11,     55,  12595,\n",
       "          647,     27,    135,    329,   4641,    192,   1938,   1181,\n",
       "           65,   1065,   2084,   2311,   7443,    781,   2245,   2337,\n",
       "          236,   1563,    175,    900,    926,    363,    802,   1353,\n",
       "        95923,   4435,  16605,    322,   1651,     87,    394,  13531,\n",
       "           44,    645,    664,     60,  25150,    338, 188172,    172,\n",
       "          212,     35,      8,      0,    119,     28,    112,      2],\n",
       "      dtype=int64)"
      ]
     },
     "execution_count": 6,
     "metadata": {},
     "output_type": "execute_result"
    }
   ],
   "source": [
    "dataset[\"march\"].unique()"
   ]
  },
  {
   "cell_type": "code",
   "execution_count": 7,
   "metadata": {},
   "outputs": [
    {
     "data": {
      "text/plain": [
       "array([   1828,     750,    3649,     743,      27,      24,    4127,\n",
       "          1867,     106,    3016,      28,    1034,     438,     218,\n",
       "          1354,     550,   15357,    1717,      80,    2811,    6462,\n",
       "         12208,   47334,      64,       7,    1014,    1585,   73235,\n",
       "           138,    1399,     638,     114,     122,    1705,    4850,\n",
       "          2053,      13,     273,     118,     258,     915,   16500,\n",
       "         25761,     366,      50,      52,   14365,     991,     593,\n",
       "           579,     355,     139,    1588,     254,     147,     168,\n",
       "           328,     939,    1276,    1037,   68128,    1019,     199,\n",
       "           653,     937,     110,     146,      45,      75,      18,\n",
       "           306,     787,     645,     197,     561,     190,       1,\n",
       "            76,     185,    1268,    5949,     207,     471,     705,\n",
       "          1183,    2047,     712,    1437,     837,    7504,     187,\n",
       "            11,    8851,    1072,    6416,   24258,    5042,     345,\n",
       "           315,      39,    1660,      71,     126,    4740,     125,\n",
       "            58,     149,     460,     418,       6,      38,     175,\n",
       "        167605,     238,      10,     511,  159912,    1671,    2566,\n",
       "           530,    1240,      74,     702,    2649,    1795,   31324,\n",
       "          9511,   92584,    1928,   19877,   15728,  201505,     364,\n",
       "         13736,     449,    3027,     374,   10761,    3440,     708,\n",
       "           836,     717,     141,      82,    1344,    3741,     128,\n",
       "          5851,     250,     458,     334,   16752,    3638,      95,\n",
       "           321,    4252,      16,      54,     100,   38416,    1474,\n",
       "           709,    1532,    1421,    7660,    2131,   14612,    6021,\n",
       "             8,     239,   31190,    7958,   12218,   24322,   11921,\n",
       "         11616,   93558,     212,      15,     553,   20077,     823,\n",
       "          6630,   14951,    1384,    1408,     528,    4996,  232128,\n",
       "           619,     318,   19621,   29264,     429,     299,    2938,\n",
       "            99,     116,     975,  114653,      79,    9410,   11380,\n",
       "            70,     309,  161145,     625, 1012582,    1939,     329,\n",
       "           270,      32,       0,      19,      43,      61,     343,\n",
       "            73,     424,       5,     510,     150,       3,      12,\n",
       "             9,      23,     104,      36,      34], dtype=int64)"
      ]
     },
     "execution_count": 7,
     "metadata": {},
     "output_type": "execute_result"
    }
   ],
   "source": [
    "dataset[\"april\"].unique()"
   ]
  },
  {
   "cell_type": "code",
   "execution_count": 8,
   "metadata": {},
   "outputs": [
    {
     "data": {
      "text/plain": [
       "NaN                         182\n",
       "Turks and Caicos Islands      1\n",
       "New Caledonia                 1\n",
       "Hubei                         1\n",
       "Inner Mongolia                1\n",
       "                           ... \n",
       "Bermuda                       1\n",
       "Tasmania                      1\n",
       "Chongqing                     1\n",
       "Montserrat                    1\n",
       "New South Wales               1\n",
       "Name: province/state, Length: 83, dtype: int64"
      ]
     },
     "execution_count": 8,
     "metadata": {},
     "output_type": "execute_result"
    }
   ],
   "source": [
    "#lets take a look about the province/state column\n",
    "dataset[\"province/state\"].value_counts(dropna=False)"
   ]
  },
  {
   "cell_type": "markdown",
   "metadata": {},
   "source": [
    "We will combine the rows that has the same value on Country/Region column, because we want to do the analysis on that column only. We also will change the NaN values with \"-\"."
   ]
  },
  {
   "cell_type": "code",
   "execution_count": 9,
   "metadata": {},
   "outputs": [
    {
     "data": {
      "text/plain": [
       "array(['Australia', 'Canada', 'China', 'Denmark', 'France', 'Netherlands',\n",
       "       'United Kingdom'], dtype=object)"
      ]
     },
     "execution_count": 9,
     "metadata": {},
     "output_type": "execute_result"
    }
   ],
   "source": [
    "multiplicative_rows = dataset[\"country/region\"].duplicated()\n",
    "\n",
    "dataset[\"country/region\"][multiplicative_rows].unique()"
   ]
  },
  {
   "cell_type": "code",
   "execution_count": 10,
   "metadata": {},
   "outputs": [
    {
     "name": "stderr",
     "output_type": "stream",
     "text": [
      "C:\\Users\\LENOVO\\Anaconda3\\lib\\site-packages\\ipykernel_launcher.py:6: SettingWithCopyWarning: \n",
      "A value is trying to be set on a copy of a slice from a DataFrame\n",
      "\n",
      "See the caveats in the documentation: http://pandas.pydata.org/pandas-docs/stable/user_guide/indexing.html#returning-a-view-versus-a-copy\n",
      "  \n"
     ]
    },
    {
     "data": {
      "text/html": [
       "<div>\n",
       "<style scoped>\n",
       "    .dataframe tbody tr th:only-of-type {\n",
       "        vertical-align: middle;\n",
       "    }\n",
       "\n",
       "    .dataframe tbody tr th {\n",
       "        vertical-align: top;\n",
       "    }\n",
       "\n",
       "    .dataframe thead th {\n",
       "        text-align: right;\n",
       "    }\n",
       "</style>\n",
       "<table border=\"1\" class=\"dataframe\">\n",
       "  <thead>\n",
       "    <tr style=\"text-align: right;\">\n",
       "      <th></th>\n",
       "      <th>province/state</th>\n",
       "      <th>country/region</th>\n",
       "      <th>lat</th>\n",
       "      <th>long</th>\n",
       "      <th>1/22/20</th>\n",
       "      <th>1/23/20</th>\n",
       "      <th>1/24/20</th>\n",
       "      <th>1/25/20</th>\n",
       "      <th>1/26/20</th>\n",
       "      <th>1/27/20</th>\n",
       "      <th>...</th>\n",
       "      <th>4/23/20</th>\n",
       "      <th>4/24/20</th>\n",
       "      <th>4/25/20</th>\n",
       "      <th>4/26/20</th>\n",
       "      <th>4/27/20</th>\n",
       "      <th>4/28/20</th>\n",
       "      <th>january</th>\n",
       "      <th>february</th>\n",
       "      <th>march</th>\n",
       "      <th>april</th>\n",
       "    </tr>\n",
       "  </thead>\n",
       "  <tbody>\n",
       "    <tr>\n",
       "      <th>49</th>\n",
       "      <td>Anhui</td>\n",
       "      <td>China</td>\n",
       "      <td>31.8257</td>\n",
       "      <td>117.2264</td>\n",
       "      <td>1</td>\n",
       "      <td>9</td>\n",
       "      <td>15</td>\n",
       "      <td>39</td>\n",
       "      <td>60</td>\n",
       "      <td>70</td>\n",
       "      <td>...</td>\n",
       "      <td>991</td>\n",
       "      <td>991</td>\n",
       "      <td>991</td>\n",
       "      <td>991</td>\n",
       "      <td>991</td>\n",
       "      <td>991</td>\n",
       "      <td>9802</td>\n",
       "      <td>79356</td>\n",
       "      <td>82279</td>\n",
       "      <td>83940</td>\n",
       "    </tr>\n",
       "  </tbody>\n",
       "</table>\n",
       "<p>1 rows × 106 columns</p>\n",
       "</div>"
      ],
      "text/plain": [
       "   province/state country/region      lat      long  1/22/20  1/23/20  \\\n",
       "49          Anhui          China  31.8257  117.2264        1        9   \n",
       "\n",
       "    1/24/20  1/25/20  1/26/20  1/27/20  ...  4/23/20  4/24/20  4/25/20  \\\n",
       "49       15       39       60       70  ...      991      991      991   \n",
       "\n",
       "    4/26/20  4/27/20  4/28/20  january  february  march  april  \n",
       "49      991      991      991     9802     79356  82279  83940  \n",
       "\n",
       "[1 rows x 106 columns]"
      ]
     },
     "execution_count": 10,
     "metadata": {},
     "output_type": "execute_result"
    }
   ],
   "source": [
    "#sum all the cases per month\n",
    "multiplicated_countries = dataset[\"country/region\"][multiplicative_rows].unique()\n",
    "\n",
    "for loop in range(len(multiplicated_countries)):\n",
    "    for loop1 in range(len(time_list_month)):\n",
    "       dataset[time_list_month[loop1]][dataset[\"country/region\"] == multiplicated_countries[loop]] = dataset[time_list_month[loop1]][dataset[\"country/region\"] == multiplicated_countries[loop]].sum(axis = 0)\n",
    "    dataset.drop(dataset[dataset[\"country/region\"] == multiplicated_countries[loop]].index[1:], inplace = True)\n",
    "    \n",
    "dataset[dataset[\"country/region\"] == \"China\"]"
   ]
  },
  {
   "cell_type": "code",
   "execution_count": 11,
   "metadata": {},
   "outputs": [
    {
     "data": {
      "text/html": [
       "<div>\n",
       "<style scoped>\n",
       "    .dataframe tbody tr th:only-of-type {\n",
       "        vertical-align: middle;\n",
       "    }\n",
       "\n",
       "    .dataframe tbody tr th {\n",
       "        vertical-align: top;\n",
       "    }\n",
       "\n",
       "    .dataframe thead th {\n",
       "        text-align: right;\n",
       "    }\n",
       "</style>\n",
       "<table border=\"1\" class=\"dataframe\">\n",
       "  <thead>\n",
       "    <tr style=\"text-align: right;\">\n",
       "      <th></th>\n",
       "      <th>province/state</th>\n",
       "      <th>country/region</th>\n",
       "      <th>lat</th>\n",
       "      <th>long</th>\n",
       "      <th>1/22/20</th>\n",
       "      <th>1/23/20</th>\n",
       "      <th>1/24/20</th>\n",
       "      <th>1/25/20</th>\n",
       "      <th>1/26/20</th>\n",
       "      <th>1/27/20</th>\n",
       "      <th>...</th>\n",
       "      <th>4/23/20</th>\n",
       "      <th>4/24/20</th>\n",
       "      <th>4/25/20</th>\n",
       "      <th>4/26/20</th>\n",
       "      <th>4/27/20</th>\n",
       "      <th>4/28/20</th>\n",
       "      <th>january</th>\n",
       "      <th>february</th>\n",
       "      <th>march</th>\n",
       "      <th>april</th>\n",
       "    </tr>\n",
       "  </thead>\n",
       "  <tbody>\n",
       "    <tr>\n",
       "      <th>0</th>\n",
       "      <td>-</td>\n",
       "      <td>Afghanistan</td>\n",
       "      <td>33.0000</td>\n",
       "      <td>65.0000</td>\n",
       "      <td>0</td>\n",
       "      <td>0</td>\n",
       "      <td>0</td>\n",
       "      <td>0</td>\n",
       "      <td>0</td>\n",
       "      <td>0</td>\n",
       "      <td>...</td>\n",
       "      <td>1279</td>\n",
       "      <td>1351</td>\n",
       "      <td>1463</td>\n",
       "      <td>1531</td>\n",
       "      <td>1703</td>\n",
       "      <td>1828</td>\n",
       "      <td>0</td>\n",
       "      <td>1</td>\n",
       "      <td>174</td>\n",
       "      <td>1828</td>\n",
       "    </tr>\n",
       "    <tr>\n",
       "      <th>1</th>\n",
       "      <td>-</td>\n",
       "      <td>Albania</td>\n",
       "      <td>41.1533</td>\n",
       "      <td>20.1683</td>\n",
       "      <td>0</td>\n",
       "      <td>0</td>\n",
       "      <td>0</td>\n",
       "      <td>0</td>\n",
       "      <td>0</td>\n",
       "      <td>0</td>\n",
       "      <td>...</td>\n",
       "      <td>663</td>\n",
       "      <td>678</td>\n",
       "      <td>712</td>\n",
       "      <td>726</td>\n",
       "      <td>736</td>\n",
       "      <td>750</td>\n",
       "      <td>0</td>\n",
       "      <td>0</td>\n",
       "      <td>243</td>\n",
       "      <td>750</td>\n",
       "    </tr>\n",
       "    <tr>\n",
       "      <th>2</th>\n",
       "      <td>-</td>\n",
       "      <td>Algeria</td>\n",
       "      <td>28.0339</td>\n",
       "      <td>1.6596</td>\n",
       "      <td>0</td>\n",
       "      <td>0</td>\n",
       "      <td>0</td>\n",
       "      <td>0</td>\n",
       "      <td>0</td>\n",
       "      <td>0</td>\n",
       "      <td>...</td>\n",
       "      <td>3007</td>\n",
       "      <td>3127</td>\n",
       "      <td>3256</td>\n",
       "      <td>3382</td>\n",
       "      <td>3517</td>\n",
       "      <td>3649</td>\n",
       "      <td>0</td>\n",
       "      <td>1</td>\n",
       "      <td>716</td>\n",
       "      <td>3649</td>\n",
       "    </tr>\n",
       "    <tr>\n",
       "      <th>3</th>\n",
       "      <td>-</td>\n",
       "      <td>Andorra</td>\n",
       "      <td>42.5063</td>\n",
       "      <td>1.5218</td>\n",
       "      <td>0</td>\n",
       "      <td>0</td>\n",
       "      <td>0</td>\n",
       "      <td>0</td>\n",
       "      <td>0</td>\n",
       "      <td>0</td>\n",
       "      <td>...</td>\n",
       "      <td>723</td>\n",
       "      <td>731</td>\n",
       "      <td>738</td>\n",
       "      <td>738</td>\n",
       "      <td>743</td>\n",
       "      <td>743</td>\n",
       "      <td>0</td>\n",
       "      <td>0</td>\n",
       "      <td>376</td>\n",
       "      <td>743</td>\n",
       "    </tr>\n",
       "    <tr>\n",
       "      <th>4</th>\n",
       "      <td>-</td>\n",
       "      <td>Angola</td>\n",
       "      <td>-11.2027</td>\n",
       "      <td>17.8739</td>\n",
       "      <td>0</td>\n",
       "      <td>0</td>\n",
       "      <td>0</td>\n",
       "      <td>0</td>\n",
       "      <td>0</td>\n",
       "      <td>0</td>\n",
       "      <td>...</td>\n",
       "      <td>25</td>\n",
       "      <td>25</td>\n",
       "      <td>25</td>\n",
       "      <td>26</td>\n",
       "      <td>27</td>\n",
       "      <td>27</td>\n",
       "      <td>0</td>\n",
       "      <td>0</td>\n",
       "      <td>7</td>\n",
       "      <td>27</td>\n",
       "    </tr>\n",
       "  </tbody>\n",
       "</table>\n",
       "<p>5 rows × 106 columns</p>\n",
       "</div>"
      ],
      "text/plain": [
       "  province/state country/region      lat     long  1/22/20  1/23/20  1/24/20  \\\n",
       "0              -    Afghanistan  33.0000  65.0000        0        0        0   \n",
       "1              -        Albania  41.1533  20.1683        0        0        0   \n",
       "2              -        Algeria  28.0339   1.6596        0        0        0   \n",
       "3              -        Andorra  42.5063   1.5218        0        0        0   \n",
       "4              -         Angola -11.2027  17.8739        0        0        0   \n",
       "\n",
       "   1/25/20  1/26/20  1/27/20  ...  4/23/20  4/24/20  4/25/20  4/26/20  \\\n",
       "0        0        0        0  ...     1279     1351     1463     1531   \n",
       "1        0        0        0  ...      663      678      712      726   \n",
       "2        0        0        0  ...     3007     3127     3256     3382   \n",
       "3        0        0        0  ...      723      731      738      738   \n",
       "4        0        0        0  ...       25       25       25       26   \n",
       "\n",
       "   4/27/20  4/28/20  january  february  march  april  \n",
       "0     1703     1828        0         1    174   1828  \n",
       "1      736      750        0         0    243    750  \n",
       "2     3517     3649        0         1    716   3649  \n",
       "3      743      743        0         0    376    743  \n",
       "4       27       27        0         0      7     27  \n",
       "\n",
       "[5 rows x 106 columns]"
      ]
     },
     "execution_count": 11,
     "metadata": {},
     "output_type": "execute_result"
    }
   ],
   "source": [
    "#lets change the NaN values\n",
    "dataset[\"province/state\"].fillna(\"-\", inplace = True)\n",
    "dataset.head()"
   ]
  },
  {
   "cell_type": "markdown",
   "metadata": {},
   "source": [
    "<h2>Prepare the Plot</h2>\n",
    "\n",
    "For these dataset, we will create a pie chart, rank the most affected country since 28 April 2020. To do it, we will:\n",
    "- Make the percentage of number of case from total case for each country.\n",
    "- Make the top 10 country, while the remaining country will be summed up, and create a new column named \"Other Countries\"."
   ]
  },
  {
   "cell_type": "code",
   "execution_count": 12,
   "metadata": {},
   "outputs": [
    {
     "data": {
      "text/plain": [
       "9927"
      ]
     },
     "execution_count": 12,
     "metadata": {},
     "output_type": "execute_result"
    }
   ],
   "source": [
    "#before make the percentage, we should make the total case of each month\n",
    "total_january =  dataset[\"january\"].sum(axis=0)\n",
    "\n",
    "total_january"
   ]
  },
  {
   "cell_type": "code",
   "execution_count": 13,
   "metadata": {},
   "outputs": [
    {
     "data": {
      "text/plain": [
       "86011"
      ]
     },
     "execution_count": 13,
     "metadata": {},
     "output_type": "execute_result"
    }
   ],
   "source": [
    "total_february =  dataset[\"february\"].sum(axis=0)\n",
    "\n",
    "total_february"
   ]
  },
  {
   "cell_type": "code",
   "execution_count": 14,
   "metadata": {},
   "outputs": [
    {
     "data": {
      "text/plain": [
       "857608"
      ]
     },
     "execution_count": 14,
     "metadata": {},
     "output_type": "execute_result"
    }
   ],
   "source": [
    "total_march =  dataset[\"march\"].sum(axis=0)\n",
    "\n",
    "total_march"
   ]
  },
  {
   "cell_type": "code",
   "execution_count": 15,
   "metadata": {},
   "outputs": [
    {
     "data": {
      "text/plain": [
       "3116398"
      ]
     },
     "execution_count": 15,
     "metadata": {},
     "output_type": "execute_result"
    }
   ],
   "source": [
    "total_april =  dataset[\"april\"].sum(axis=0)\n",
    "\n",
    "total_april"
   ]
  },
  {
   "cell_type": "code",
   "execution_count": 16,
   "metadata": {},
   "outputs": [
    {
     "data": {
      "text/html": [
       "<div>\n",
       "<style scoped>\n",
       "    .dataframe tbody tr th:only-of-type {\n",
       "        vertical-align: middle;\n",
       "    }\n",
       "\n",
       "    .dataframe tbody tr th {\n",
       "        vertical-align: top;\n",
       "    }\n",
       "\n",
       "    .dataframe thead th {\n",
       "        text-align: right;\n",
       "    }\n",
       "</style>\n",
       "<table border=\"1\" class=\"dataframe\">\n",
       "  <thead>\n",
       "    <tr style=\"text-align: right;\">\n",
       "      <th></th>\n",
       "      <th>country/region</th>\n",
       "      <th>january_percent</th>\n",
       "    </tr>\n",
       "  </thead>\n",
       "  <tbody>\n",
       "    <tr>\n",
       "      <th>49</th>\n",
       "      <td>China</td>\n",
       "      <td>98.740808</td>\n",
       "    </tr>\n",
       "    <tr>\n",
       "      <th>209</th>\n",
       "      <td>Thailand</td>\n",
       "      <td>0.191397</td>\n",
       "    </tr>\n",
       "    <tr>\n",
       "      <th>139</th>\n",
       "      <td>Japan</td>\n",
       "      <td>0.151103</td>\n",
       "    </tr>\n",
       "    <tr>\n",
       "      <th>196</th>\n",
       "      <td>Singapore</td>\n",
       "      <td>0.130956</td>\n",
       "    </tr>\n",
       "    <tr>\n",
       "      <th>143</th>\n",
       "      <td>Korea, South</td>\n",
       "      <td>0.110809</td>\n",
       "    </tr>\n",
       "    <tr>\n",
       "      <th>207</th>\n",
       "      <td>Taiwan*</td>\n",
       "      <td>0.100735</td>\n",
       "    </tr>\n",
       "    <tr>\n",
       "      <th>8</th>\n",
       "      <td>Australia</td>\n",
       "      <td>0.090662</td>\n",
       "    </tr>\n",
       "    <tr>\n",
       "      <th>153</th>\n",
       "      <td>Malaysia</td>\n",
       "      <td>0.080588</td>\n",
       "    </tr>\n",
       "    <tr>\n",
       "      <th>225</th>\n",
       "      <td>US</td>\n",
       "      <td>0.070515</td>\n",
       "    </tr>\n",
       "    <tr>\n",
       "      <th>107</th>\n",
       "      <td>France</td>\n",
       "      <td>0.050368</td>\n",
       "    </tr>\n",
       "  </tbody>\n",
       "</table>\n",
       "</div>"
      ],
      "text/plain": [
       "    country/region  january_percent\n",
       "49           China        98.740808\n",
       "209       Thailand         0.191397\n",
       "139          Japan         0.151103\n",
       "196      Singapore         0.130956\n",
       "143   Korea, South         0.110809\n",
       "207        Taiwan*         0.100735\n",
       "8        Australia         0.090662\n",
       "153       Malaysia         0.080588\n",
       "225             US         0.070515\n",
       "107         France         0.050368"
      ]
     },
     "execution_count": 16,
     "metadata": {},
     "output_type": "execute_result"
    }
   ],
   "source": [
    "#lets continue observing February\n",
    "dataset[\"january_percent\"] = dataset[\"january\"] / total_january * 100\n",
    "dataset[[\"country/region\", \"january_percent\"]].sort_values(ascending = False, by = \"january_percent\")[:10]"
   ]
  },
  {
   "cell_type": "code",
   "execution_count": 17,
   "metadata": {},
   "outputs": [
    {
     "data": {
      "text/html": [
       "<div>\n",
       "<style scoped>\n",
       "    .dataframe tbody tr th:only-of-type {\n",
       "        vertical-align: middle;\n",
       "    }\n",
       "\n",
       "    .dataframe tbody tr th {\n",
       "        vertical-align: top;\n",
       "    }\n",
       "\n",
       "    .dataframe thead th {\n",
       "        text-align: right;\n",
       "    }\n",
       "</style>\n",
       "<table border=\"1\" class=\"dataframe\">\n",
       "  <thead>\n",
       "    <tr style=\"text-align: right;\">\n",
       "      <th></th>\n",
       "      <th>country/region</th>\n",
       "      <th>percentage</th>\n",
       "    </tr>\n",
       "  </thead>\n",
       "  <tbody>\n",
       "    <tr>\n",
       "      <th>0</th>\n",
       "      <td>China</td>\n",
       "      <td>98.740808</td>\n",
       "    </tr>\n",
       "    <tr>\n",
       "      <th>1</th>\n",
       "      <td>Other Countries</td>\n",
       "      <td>1.259192</td>\n",
       "    </tr>\n",
       "  </tbody>\n",
       "</table>\n",
       "</div>"
      ],
      "text/plain": [
       "    country/region  percentage\n",
       "0            China   98.740808\n",
       "1  Other Countries    1.259192"
      ]
     },
     "execution_count": 17,
     "metadata": {},
     "output_type": "execute_result"
    }
   ],
   "source": [
    "#because the virus spread was mostly on China only, so we will sum the other values and add them into \"Other Countries\"\n",
    "january_percentage = pd.DataFrame({\"country/region\" : [\"China\", \"Other Countries\"],\n",
    "                                        \"percentage\" : [dataset[dataset[\"country/region\"] == \"China\"][\"january_percent\"].unique().tolist()[0],\n",
    "                                                       dataset[\"january_percent\"].sort_values(ascending = False).iloc[1:].sum(axis = 0)]})\n",
    "\n",
    "january_percentage"
   ]
  },
  {
   "cell_type": "code",
   "execution_count": 18,
   "metadata": {},
   "outputs": [
    {
     "data": {
      "text/html": [
       "<div>\n",
       "<style scoped>\n",
       "    .dataframe tbody tr th:only-of-type {\n",
       "        vertical-align: middle;\n",
       "    }\n",
       "\n",
       "    .dataframe tbody tr th {\n",
       "        vertical-align: top;\n",
       "    }\n",
       "\n",
       "    .dataframe thead th {\n",
       "        text-align: right;\n",
       "    }\n",
       "</style>\n",
       "<table border=\"1\" class=\"dataframe\">\n",
       "  <thead>\n",
       "    <tr style=\"text-align: right;\">\n",
       "      <th></th>\n",
       "      <th>country/region</th>\n",
       "      <th>february_percent</th>\n",
       "    </tr>\n",
       "  </thead>\n",
       "  <tbody>\n",
       "    <tr>\n",
       "      <th>49</th>\n",
       "      <td>China</td>\n",
       "      <td>92.262618</td>\n",
       "    </tr>\n",
       "    <tr>\n",
       "      <th>143</th>\n",
       "      <td>Korea, South</td>\n",
       "      <td>3.662322</td>\n",
       "    </tr>\n",
       "    <tr>\n",
       "      <th>137</th>\n",
       "      <td>Italy</td>\n",
       "      <td>1.311460</td>\n",
       "    </tr>\n",
       "    <tr>\n",
       "      <th>88</th>\n",
       "      <td>Diamond Princess</td>\n",
       "      <td>0.819663</td>\n",
       "    </tr>\n",
       "    <tr>\n",
       "      <th>133</th>\n",
       "      <td>Iran</td>\n",
       "      <td>0.689447</td>\n",
       "    </tr>\n",
       "    <tr>\n",
       "      <th>139</th>\n",
       "      <td>Japan</td>\n",
       "      <td>0.280197</td>\n",
       "    </tr>\n",
       "    <tr>\n",
       "      <th>196</th>\n",
       "      <td>Singapore</td>\n",
       "      <td>0.118589</td>\n",
       "    </tr>\n",
       "    <tr>\n",
       "      <th>107</th>\n",
       "      <td>France</td>\n",
       "      <td>0.116264</td>\n",
       "    </tr>\n",
       "    <tr>\n",
       "      <th>120</th>\n",
       "      <td>Germany</td>\n",
       "      <td>0.091849</td>\n",
       "    </tr>\n",
       "    <tr>\n",
       "      <th>225</th>\n",
       "      <td>US</td>\n",
       "      <td>0.079060</td>\n",
       "    </tr>\n",
       "  </tbody>\n",
       "</table>\n",
       "</div>"
      ],
      "text/plain": [
       "       country/region  february_percent\n",
       "49              China         92.262618\n",
       "143      Korea, South          3.662322\n",
       "137             Italy          1.311460\n",
       "88   Diamond Princess          0.819663\n",
       "133              Iran          0.689447\n",
       "139             Japan          0.280197\n",
       "196         Singapore          0.118589\n",
       "107            France          0.116264\n",
       "120           Germany          0.091849\n",
       "225                US          0.079060"
      ]
     },
     "execution_count": 18,
     "metadata": {},
     "output_type": "execute_result"
    }
   ],
   "source": [
    "#lets continue observing February\n",
    "dataset[\"february_percent\"] = dataset[\"february\"] / total_february * 100\n",
    "dataset[[\"country/region\", \"february_percent\"]].sort_values(ascending = False, by = \"february_percent\")[:10]"
   ]
  },
  {
   "cell_type": "code",
   "execution_count": 19,
   "metadata": {},
   "outputs": [
    {
     "data": {
      "text/html": [
       "<div>\n",
       "<style scoped>\n",
       "    .dataframe tbody tr th:only-of-type {\n",
       "        vertical-align: middle;\n",
       "    }\n",
       "\n",
       "    .dataframe tbody tr th {\n",
       "        vertical-align: top;\n",
       "    }\n",
       "\n",
       "    .dataframe thead th {\n",
       "        text-align: right;\n",
       "    }\n",
       "</style>\n",
       "<table border=\"1\" class=\"dataframe\">\n",
       "  <thead>\n",
       "    <tr style=\"text-align: right;\">\n",
       "      <th></th>\n",
       "      <th>country/region</th>\n",
       "      <th>percentage</th>\n",
       "    </tr>\n",
       "  </thead>\n",
       "  <tbody>\n",
       "    <tr>\n",
       "      <th>0</th>\n",
       "      <td>China</td>\n",
       "      <td>92.262618</td>\n",
       "    </tr>\n",
       "    <tr>\n",
       "      <th>1</th>\n",
       "      <td>Other Countries</td>\n",
       "      <td>7.737382</td>\n",
       "    </tr>\n",
       "  </tbody>\n",
       "</table>\n",
       "</div>"
      ],
      "text/plain": [
       "    country/region  percentage\n",
       "0            China   92.262618\n",
       "1  Other Countries    7.737382"
      ]
     },
     "execution_count": 19,
     "metadata": {},
     "output_type": "execute_result"
    }
   ],
   "source": [
    "#because the virus spread still on China, we will sum the other values and add them into \"Other Countries\"\n",
    "february_percentage = pd.DataFrame({\"country/region\" : [\"China\", \"Other Countries\"],\n",
    "                                        \"percentage\" : [dataset[dataset[\"country/region\"] == \"China\"][\"february_percent\"].unique().tolist()[0],\n",
    "                                                       dataset[\"february_percent\"].sort_values(ascending = False).iloc[1:].sum(axis = 0)]})\n",
    "\n",
    "february_percentage"
   ]
  },
  {
   "cell_type": "code",
   "execution_count": 20,
   "metadata": {},
   "outputs": [
    {
     "data": {
      "text/html": [
       "<div>\n",
       "<style scoped>\n",
       "    .dataframe tbody tr th:only-of-type {\n",
       "        vertical-align: middle;\n",
       "    }\n",
       "\n",
       "    .dataframe tbody tr th {\n",
       "        vertical-align: top;\n",
       "    }\n",
       "\n",
       "    .dataframe thead th {\n",
       "        text-align: right;\n",
       "    }\n",
       "</style>\n",
       "<table border=\"1\" class=\"dataframe\">\n",
       "  <thead>\n",
       "    <tr style=\"text-align: right;\">\n",
       "      <th></th>\n",
       "      <th>country/region</th>\n",
       "      <th>march_percent</th>\n",
       "    </tr>\n",
       "  </thead>\n",
       "  <tbody>\n",
       "    <tr>\n",
       "      <th>225</th>\n",
       "      <td>US</td>\n",
       "      <td>21.941493</td>\n",
       "    </tr>\n",
       "    <tr>\n",
       "      <th>137</th>\n",
       "      <td>Italy</td>\n",
       "      <td>12.335706</td>\n",
       "    </tr>\n",
       "    <tr>\n",
       "      <th>201</th>\n",
       "      <td>Spain</td>\n",
       "      <td>11.184947</td>\n",
       "    </tr>\n",
       "    <tr>\n",
       "      <th>49</th>\n",
       "      <td>China</td>\n",
       "      <td>9.594010</td>\n",
       "    </tr>\n",
       "    <tr>\n",
       "      <th>120</th>\n",
       "      <td>Germany</td>\n",
       "      <td>8.373056</td>\n",
       "    </tr>\n",
       "    <tr>\n",
       "      <th>107</th>\n",
       "      <td>France</td>\n",
       "      <td>6.159807</td>\n",
       "    </tr>\n",
       "    <tr>\n",
       "      <th>133</th>\n",
       "      <td>Iran</td>\n",
       "      <td>5.201094</td>\n",
       "    </tr>\n",
       "    <tr>\n",
       "      <th>217</th>\n",
       "      <td>United Kingdom</td>\n",
       "      <td>2.971171</td>\n",
       "    </tr>\n",
       "    <tr>\n",
       "      <th>206</th>\n",
       "      <td>Switzerland</td>\n",
       "      <td>1.936199</td>\n",
       "    </tr>\n",
       "    <tr>\n",
       "      <th>213</th>\n",
       "      <td>Turkey</td>\n",
       "      <td>1.577760</td>\n",
       "    </tr>\n",
       "  </tbody>\n",
       "</table>\n",
       "</div>"
      ],
      "text/plain": [
       "     country/region  march_percent\n",
       "225              US      21.941493\n",
       "137           Italy      12.335706\n",
       "201           Spain      11.184947\n",
       "49            China       9.594010\n",
       "120         Germany       8.373056\n",
       "107          France       6.159807\n",
       "133            Iran       5.201094\n",
       "217  United Kingdom       2.971171\n",
       "206     Switzerland       1.936199\n",
       "213          Turkey       1.577760"
      ]
     },
     "execution_count": 20,
     "metadata": {},
     "output_type": "execute_result"
    }
   ],
   "source": [
    "#lets check the spread on March\n",
    "dataset[\"march_percent\"] = dataset[\"march\"] / total_march * 100\n",
    "dataset[[\"country/region\", \"march_percent\"]].sort_values(ascending = False, by = \"march_percent\")[:10]"
   ]
  },
  {
   "cell_type": "code",
   "execution_count": 21,
   "metadata": {},
   "outputs": [
    {
     "data": {
      "text/html": [
       "<div>\n",
       "<style scoped>\n",
       "    .dataframe tbody tr th:only-of-type {\n",
       "        vertical-align: middle;\n",
       "    }\n",
       "\n",
       "    .dataframe tbody tr th {\n",
       "        vertical-align: top;\n",
       "    }\n",
       "\n",
       "    .dataframe thead th {\n",
       "        text-align: right;\n",
       "    }\n",
       "</style>\n",
       "<table border=\"1\" class=\"dataframe\">\n",
       "  <thead>\n",
       "    <tr style=\"text-align: right;\">\n",
       "      <th></th>\n",
       "      <th>country/region</th>\n",
       "      <th>percentage</th>\n",
       "    </tr>\n",
       "  </thead>\n",
       "  <tbody>\n",
       "    <tr>\n",
       "      <th>0</th>\n",
       "      <td>US</td>\n",
       "      <td>21.941493</td>\n",
       "    </tr>\n",
       "    <tr>\n",
       "      <th>1</th>\n",
       "      <td>Italy</td>\n",
       "      <td>12.335706</td>\n",
       "    </tr>\n",
       "    <tr>\n",
       "      <th>2</th>\n",
       "      <td>Spain</td>\n",
       "      <td>11.184947</td>\n",
       "    </tr>\n",
       "    <tr>\n",
       "      <th>3</th>\n",
       "      <td>China</td>\n",
       "      <td>9.594010</td>\n",
       "    </tr>\n",
       "    <tr>\n",
       "      <th>4</th>\n",
       "      <td>Germany</td>\n",
       "      <td>8.373056</td>\n",
       "    </tr>\n",
       "    <tr>\n",
       "      <th>5</th>\n",
       "      <td>Other Countries</td>\n",
       "      <td>36.570788</td>\n",
       "    </tr>\n",
       "  </tbody>\n",
       "</table>\n",
       "</div>"
      ],
      "text/plain": [
       "    country/region  percentage\n",
       "0               US   21.941493\n",
       "1            Italy   12.335706\n",
       "2            Spain   11.184947\n",
       "3            China    9.594010\n",
       "4          Germany    8.373056\n",
       "5  Other Countries   36.570788"
      ]
     },
     "execution_count": 21,
     "metadata": {},
     "output_type": "execute_result"
    }
   ],
   "source": [
    "#the virus started to spread other countries,\n",
    "#so we will display US, Italy, Spain, China, Germany, and finally sum the other values and add them into \"Other Countries\"\n",
    "march_percentage = pd.DataFrame({\"country/region\" : [\"US\", \"Italy\", \"Spain\", \"China\", \"Germany\", \"Other Countries\"],\n",
    "                                        \"percentage\" : [dataset[dataset[\"country/region\"] == \"US\"][\"march_percent\"].unique().tolist()[0],\n",
    "                                                        dataset[dataset[\"country/region\"] == \"Italy\"][\"march_percent\"].unique().tolist()[0],\n",
    "                                                        dataset[dataset[\"country/region\"] == \"Spain\"][\"march_percent\"].unique().tolist()[0],\n",
    "                                                        dataset[dataset[\"country/region\"] == \"China\"][\"march_percent\"].unique().tolist()[0],\n",
    "                                                        dataset[dataset[\"country/region\"] == \"Germany\"][\"march_percent\"].unique().tolist()[0],\n",
    "                                                        dataset[\"march_percent\"].sort_values(ascending = False).iloc[5:].sum(axis = 0)]})\n",
    "\n",
    "march_percentage"
   ]
  },
  {
   "cell_type": "code",
   "execution_count": 22,
   "metadata": {},
   "outputs": [
    {
     "data": {
      "text/html": [
       "<div>\n",
       "<style scoped>\n",
       "    .dataframe tbody tr th:only-of-type {\n",
       "        vertical-align: middle;\n",
       "    }\n",
       "\n",
       "    .dataframe tbody tr th {\n",
       "        vertical-align: top;\n",
       "    }\n",
       "\n",
       "    .dataframe thead th {\n",
       "        text-align: right;\n",
       "    }\n",
       "</style>\n",
       "<table border=\"1\" class=\"dataframe\">\n",
       "  <thead>\n",
       "    <tr style=\"text-align: right;\">\n",
       "      <th></th>\n",
       "      <th>country/region</th>\n",
       "      <th>april_percent</th>\n",
       "    </tr>\n",
       "  </thead>\n",
       "  <tbody>\n",
       "    <tr>\n",
       "      <th>225</th>\n",
       "      <td>US</td>\n",
       "      <td>32.492063</td>\n",
       "    </tr>\n",
       "    <tr>\n",
       "      <th>201</th>\n",
       "      <td>Spain</td>\n",
       "      <td>7.448599</td>\n",
       "    </tr>\n",
       "    <tr>\n",
       "      <th>137</th>\n",
       "      <td>Italy</td>\n",
       "      <td>6.465958</td>\n",
       "    </tr>\n",
       "    <tr>\n",
       "      <th>107</th>\n",
       "      <td>France</td>\n",
       "      <td>5.424628</td>\n",
       "    </tr>\n",
       "    <tr>\n",
       "      <th>217</th>\n",
       "      <td>United Kingdom</td>\n",
       "      <td>5.209540</td>\n",
       "    </tr>\n",
       "    <tr>\n",
       "      <th>120</th>\n",
       "      <td>Germany</td>\n",
       "      <td>5.131309</td>\n",
       "    </tr>\n",
       "    <tr>\n",
       "      <th>213</th>\n",
       "      <td>Turkey</td>\n",
       "      <td>3.679023</td>\n",
       "    </tr>\n",
       "    <tr>\n",
       "      <th>187</th>\n",
       "      <td>Russia</td>\n",
       "      <td>3.002120</td>\n",
       "    </tr>\n",
       "    <tr>\n",
       "      <th>133</th>\n",
       "      <td>Iran</td>\n",
       "      <td>2.970866</td>\n",
       "    </tr>\n",
       "    <tr>\n",
       "      <th>49</th>\n",
       "      <td>China</td>\n",
       "      <td>2.693494</td>\n",
       "    </tr>\n",
       "  </tbody>\n",
       "</table>\n",
       "</div>"
      ],
      "text/plain": [
       "     country/region  april_percent\n",
       "225              US      32.492063\n",
       "201           Spain       7.448599\n",
       "137           Italy       6.465958\n",
       "107          France       5.424628\n",
       "217  United Kingdom       5.209540\n",
       "120         Germany       5.131309\n",
       "213          Turkey       3.679023\n",
       "187          Russia       3.002120\n",
       "133            Iran       2.970866\n",
       "49            China       2.693494"
      ]
     },
     "execution_count": 22,
     "metadata": {},
     "output_type": "execute_result"
    }
   ],
   "source": [
    "dataset[\"april_percent\"] = dataset[\"april\"] / total_april * 100\n",
    "dataset[[\"country/region\", \"april_percent\"]].sort_values(ascending = False, by = \"april_percent\")[:10]"
   ]
  },
  {
   "cell_type": "code",
   "execution_count": 23,
   "metadata": {},
   "outputs": [
    {
     "data": {
      "text/html": [
       "<div>\n",
       "<style scoped>\n",
       "    .dataframe tbody tr th:only-of-type {\n",
       "        vertical-align: middle;\n",
       "    }\n",
       "\n",
       "    .dataframe tbody tr th {\n",
       "        vertical-align: top;\n",
       "    }\n",
       "\n",
       "    .dataframe thead th {\n",
       "        text-align: right;\n",
       "    }\n",
       "</style>\n",
       "<table border=\"1\" class=\"dataframe\">\n",
       "  <thead>\n",
       "    <tr style=\"text-align: right;\">\n",
       "      <th></th>\n",
       "      <th>country/region</th>\n",
       "      <th>percentage</th>\n",
       "    </tr>\n",
       "  </thead>\n",
       "  <tbody>\n",
       "    <tr>\n",
       "      <th>0</th>\n",
       "      <td>US</td>\n",
       "      <td>32.492063</td>\n",
       "    </tr>\n",
       "    <tr>\n",
       "      <th>1</th>\n",
       "      <td>Spain</td>\n",
       "      <td>7.448599</td>\n",
       "    </tr>\n",
       "    <tr>\n",
       "      <th>2</th>\n",
       "      <td>Italy</td>\n",
       "      <td>6.465958</td>\n",
       "    </tr>\n",
       "    <tr>\n",
       "      <th>3</th>\n",
       "      <td>France</td>\n",
       "      <td>5.424628</td>\n",
       "    </tr>\n",
       "    <tr>\n",
       "      <th>4</th>\n",
       "      <td>Germany</td>\n",
       "      <td>5.131309</td>\n",
       "    </tr>\n",
       "    <tr>\n",
       "      <th>5</th>\n",
       "      <td>Other Countries</td>\n",
       "      <td>42.959211</td>\n",
       "    </tr>\n",
       "  </tbody>\n",
       "</table>\n",
       "</div>"
      ],
      "text/plain": [
       "    country/region  percentage\n",
       "0               US   32.492063\n",
       "1            Spain    7.448599\n",
       "2            Italy    6.465958\n",
       "3           France    5.424628\n",
       "4          Germany    5.131309\n",
       "5  Other Countries   42.959211"
      ]
     },
     "execution_count": 23,
     "metadata": {},
     "output_type": "execute_result"
    }
   ],
   "source": [
    "#we will display US, Italy, Spain, China, Germany, and finally sum the other values and add them into \"Other Countries\"\n",
    "april_percentage = pd.DataFrame({\"country/region\" : [\"US\", \"Spain\", \"Italy\", \"France\", \"Germany\", \"Other Countries\"],\n",
    "                                        \"percentage\" : [dataset[dataset[\"country/region\"] == \"US\"][\"april_percent\"].unique().tolist()[0],\n",
    "                                                        dataset[dataset[\"country/region\"] == \"Spain\"][\"april_percent\"].unique().tolist()[0],\n",
    "                                                        dataset[dataset[\"country/region\"] == \"Italy\"][\"april_percent\"].unique().tolist()[0],\n",
    "                                                        dataset[dataset[\"country/region\"] == \"France\"][\"april_percent\"].unique().tolist()[0],\n",
    "                                                        dataset[dataset[\"country/region\"] == \"Germany\"][\"april_percent\"].unique().tolist()[0],\n",
    "                                                        dataset[\"april_percent\"].sort_values(ascending = False).iloc[5:].sum(axis = 0)]})\n",
    "\n",
    "april_percentage"
   ]
  },
  {
   "cell_type": "markdown",
   "metadata": {},
   "source": [
    "<h2>Setting the Pie Plot</h2>\n",
    "\n",
    "Now, we will create pie plots from the percentages we made before."
   ]
  },
  {
   "cell_type": "code",
   "execution_count": 24,
   "metadata": {},
   "outputs": [
    {
     "data": {
      "image/png": "[encoded data removed]",
      "text/plain": [
       "<Figure size 432x288 with 1 Axes>"
      ]
     },
     "metadata": {},
     "output_type": "display_data"
    }
   ],
   "source": [
    "#now, lets create the pie plot for January\n",
    "color_pie = [(174/255, 199/255, 232/255),\n",
    "            (152/255, 223/255, 138/255)]\n",
    "explode_pie = (0, .1)\n",
    "\n",
    "fig = plt.figure()\n",
    "plt.pie(january_percentage[\"percentage\"],\n",
    "        labels = january_percentage[\"country/region\"], \n",
    "        autopct = \"%.2f%%\", \n",
    "        colors = color_pie,\n",
    "        shadow = True,\n",
    "        explode = explode_pie,\n",
    "        startangle = 45)\n",
    "plt.axis(\"equal\")\n",
    "plt.title(\"COVID-19 Case Spread in January 2020\")\n",
    "plt.show()\n",
    "fig.savefig(\"COVID-19_January.png\", bbox_inches = \"tight\")"
   ]
  },
  {
   "cell_type": "markdown",
   "metadata": {},
   "source": [
    "If we're looking at the pie plot, the Coronavirus spreads mostly on China, which dominates the plot with 98.74%."
   ]
  },
  {
   "cell_type": "code",
   "execution_count": 25,
   "metadata": {},
   "outputs": [
    {
     "data": {
      "image/png": "[encoded data removed]",
      "text/plain": [
       "<Figure size 432x288 with 1 Axes>"
      ]
     },
     "metadata": {},
     "output_type": "display_data"
    }
   ],
   "source": [
    "#now, lets create the pie plot for February\n",
    "color_pie = [(174/255, 199/255, 232/255),\n",
    "            (152/255, 223/255, 138/255)]\n",
    "explode_pie = (0, .1)\n",
    "\n",
    "fig = plt.figure()\n",
    "plt.pie(february_percentage[\"percentage\"],\n",
    "        labels = february_percentage[\"country/region\"], \n",
    "        autopct = \"%.2f%%\", \n",
    "        colors = color_pie,\n",
    "        shadow = True,\n",
    "        explode = explode_pie,\n",
    "        startangle = 45)\n",
    "plt.axis(\"equal\")\n",
    "plt.title(\"COVID-19 Case Spread in February 2020\")\n",
    "plt.show()\n",
    "fig.savefig(\"COVID-19_February.png\", bbox_inches = \"tight\")"
   ]
  },
  {
   "cell_type": "markdown",
   "metadata": {},
   "source": [
    "If we're looking at the pie plot, the Coronavirus starts to spread to Other Countries, which escalates from 1.26% into 7.74%. But, the virus still mostly spreads on China."
   ]
  },
  {
   "cell_type": "code",
   "execution_count": 26,
   "metadata": {},
   "outputs": [
    {
     "data": {
      "image/png": "[encoded data removed]",
      "text/plain": [
       "<Figure size 432x288 with 1 Axes>"
      ]
     },
     "metadata": {},
     "output_type": "display_data"
    }
   ],
   "source": [
    "#now, lets create the pie plot for March\n",
    "color_pie = [(174/255, 199/255, 232/255),\n",
    "            (152/255, 223/255, 138/255),\n",
    "            (255/255, 187/255, 120/255),\n",
    "            (255/255, 152/255, 150/255),\n",
    "            (197/255, 176/255, 213/255),\n",
    "            (196/255, 156/255, 148/255)]\n",
    "fig = plt.figure()\n",
    "plt.pie(march_percentage[\"percentage\"],\n",
    "        labels = march_percentage[\"country/region\"], \n",
    "        autopct = \"%.2f%%\", \n",
    "        colors = color_pie,\n",
    "        shadow = True,\n",
    "        startangle = 15)\n",
    "plt.axis(\"equal\")\n",
    "plt.title(\"COVID-19 Case Spread in March 2020\")\n",
    "plt.show()\n",
    "fig.savefig(\"COVID-19_March.png\", bbox_inches = \"tight\")"
   ]
  },
  {
   "cell_type": "markdown",
   "metadata": {},
   "source": [
    "If we're looking at the plot, we can see that the Coronavirus spread in China stops on spreading massively (like the past 2 months). But, this virus massively spreads on other countries, especially US."
   ]
  },
  {
   "cell_type": "code",
   "execution_count": 27,
   "metadata": {},
   "outputs": [
    {
     "data": {
      "image/png": "[encoded data removed]",
      "text/plain": [
       "<Figure size 432x288 with 1 Axes>"
      ]
     },
     "metadata": {},
     "output_type": "display_data"
    }
   ],
   "source": [
    "#now, lets create the pie plot for April\n",
    "color_pie = [(174/255, 199/255, 232/255),\n",
    "            (152/255, 223/255, 138/255),\n",
    "            (255/255, 187/255, 120/255),\n",
    "            (255/255, 152/255, 150/255),\n",
    "            (197/255, 176/255, 213/255),\n",
    "            (196/255, 156/255, 148/255)]\n",
    "fig = plt.figure()\n",
    "plt.pie(april_percentage[\"percentage\"],\n",
    "        labels = april_percentage[\"country/region\"], \n",
    "        autopct = \"%.2f%%\", \n",
    "        colors = color_pie,\n",
    "        shadow = True,\n",
    "        startangle = 5)\n",
    "plt.axis(\"equal\")\n",
    "plt.title(\"COVID-19 Case Spread in April 2020\")\n",
    "plt.show()\n",
    "fig.savefig(\"COVID-19_April.png\", bbox_inches = \"tight\")"
   ]
  },
  {
   "cell_type": "markdown",
   "metadata": {},
   "source": [
    "If we're looking at the pie plot, the spreads on Coronavirus spreads on China getting slower, since the latest news confirmed that Wuhan (the city where the first infection occured), end their lockdown on 8th April (source [here](https://time.com/5808736/china-ends-hubei-coronavirus-lockdown/)). Meanwhile, the spread on other countries just gets worse, which escalates from 21.94% into 32.52% just in US. \n",
    "\n",
    "<h2>COVID-19 Spread on Each Country</h2>\n",
    "\n",
    "After we look at the spread at world scale, we will look at each country, especially at China, US, Spain, Italy, and Germany. To do this, we will:\n",
    "- Make line plots about the COVID-19 spread on each country\n",
    "- The x axis represents the date (we make this daily), and the y axis represents the value."
   ]
  },
  {
   "cell_type": "code",
   "execution_count": 33,
   "metadata": {},
   "outputs": [
    {
     "data": {
      "image/png": "[encoded data removed]",
      "text/plain": [
       "<Figure size 432x288 with 1 Axes>"
      ]
     },
     "metadata": {
      "needs_background": "light"
     },
     "output_type": "display_data"
    }
   ],
   "source": [
    "style = {\"axes.spines.right\" : False, #removing the right and top spines\n",
    "        \"axes.spines.top\" : False}\n",
    "\n",
    "dataset_time_daily = dataset.iloc[:,4:102].copy()\n",
    "dataset_time_daily = dataset_time_daily.set_index(dataset[\"country/region\"])\n",
    "dataset_time_daily.index.name = [None]\n",
    "\n",
    "#view COVID-19 growth in China\n",
    "with plt.style.context(style):\n",
    "    fig = plt.figure()\n",
    "    ax = dataset_time_daily.loc[\"China\"].plot(c = (152/255, 223/255, 138/255), title = \"COVID-19 Spread in China\")\n",
    "    ax.set_xticks([0, 9, 38, 69])\n",
    "    ax.set_xticklabels([\"jan\", \"feb\", \"mar\", \"apr\"])\n",
    "    ax.set_yticks([0, 500, 1000])\n",
    "    ax.set_yticklabels([0, \"500\", \"1k\"])\n",
    "    fig.savefig(\"COVID-19_China.png\", bbox_inches = \"tight\")"
   ]
  },
  {
   "cell_type": "code",
   "execution_count": 34,
   "metadata": {},
   "outputs": [
    {
     "data": {
      "image/png": "[encoded data removed]",
      "text/plain": [
       "<Figure size 432x288 with 1 Axes>"
      ]
     },
     "metadata": {
      "needs_background": "light"
     },
     "output_type": "display_data"
    }
   ],
   "source": [
    "#lets also view COVID-19 growth in US\n",
    "with plt.style.context(style):\n",
    "    fig = plt.figure()\n",
    "    ax = dataset_time_daily.loc[\"US\"].plot(c = (152/255, 223/255, 138/255), title = \"COVID-19 Spread in US\")\n",
    "    ax.set_xticks([0, 9, 38, 69])\n",
    "    ax.set_xticklabels([\"jan\", \"feb\", \"mar\", \"apr\"])\n",
    "    ax.set_yticks([0, 500000, 1000000])\n",
    "    ax.set_yticklabels([0, \"500k\", \"1m\"])\n",
    "    fig.savefig(\"COVID-19_US.png\", bbox_inches = \"tight\")"
   ]
  },
  {
   "cell_type": "code",
   "execution_count": 35,
   "metadata": {},
   "outputs": [
    {
     "data": {
      "image/png": "[encoded data removed]",
      "text/plain": [
       "<Figure size 432x288 with 1 Axes>"
      ]
     },
     "metadata": {
      "needs_background": "light"
     },
     "output_type": "display_data"
    }
   ],
   "source": [
    "#view COVID-19 growth in Spain\n",
    "with plt.style.context(style):\n",
    "    fig = plt.figure()\n",
    "    ax = dataset_time_daily.loc[\"Spain\"].plot(c = (152/255, 223/255, 138/255), title = \"COVID-19 Spread in Spain\")\n",
    "    ax.set_xticks([0, 9, 38, 69])\n",
    "    ax.set_xticklabels([\"jan\", \"feb\", \"mar\", \"apr\"])\n",
    "    ax.set_yticks([0, 125000, 250000])\n",
    "    ax.set_yticklabels([0, \"125k\", \"250k\"])\n",
    "    fig.savefig(\"COVID-19_Spain.png\", bbox_inches = \"tight\")"
   ]
  },
  {
   "cell_type": "code",
   "execution_count": 36,
   "metadata": {},
   "outputs": [
    {
     "data": {
      "image/png": "[encoded data removed]",
      "text/plain": [
       "<Figure size 432x288 with 1 Axes>"
      ]
     },
     "metadata": {
      "needs_background": "light"
     },
     "output_type": "display_data"
    }
   ],
   "source": [
    "#view COVID-19 growth in Germany\n",
    "with plt.style.context(style):\n",
    "    fig = plt.figure()\n",
    "    ax = dataset_time_daily.loc[\"Germany\"].plot(c = (152/255, 223/255, 138/255), title = \"COVID-19 Spread in Germany\")\n",
    "    ax.set_xticks([0, 9, 38, 69])\n",
    "    ax.set_xticklabels([\"jan\", \"feb\", \"mar\", \"apr\"])\n",
    "    ax.set_yticks([0, 80000, 160000])\n",
    "    ax.set_yticklabels([0, \"80k\", \"160k\"])\n",
    "    fig.savefig(\"COVID-19_Germany.png\", bbox_inches = \"tight\")"
   ]
  },
  {
   "cell_type": "code",
   "execution_count": 37,
   "metadata": {},
   "outputs": [
    {
     "data": {
      "image/png": "[encoded data removed]",
      "text/plain": [
       "<Figure size 432x288 with 1 Axes>"
      ]
     },
     "metadata": {
      "needs_background": "light"
     },
     "output_type": "display_data"
    }
   ],
   "source": [
    "#view COVID-19 growth in Indonesia\n",
    "with plt.style.context(style):\n",
    "    fig = plt.figure()\n",
    "    ax = dataset_time_daily.loc[\"Indonesia\"].plot(c = (152/255, 223/255, 138/255), title = \"COVID-19 Spread in Indonesia\")\n",
    "    ax.set_xticks([0, 9, 38, 69])\n",
    "    ax.set_xticklabels([\"jan\", \"feb\", \"mar\", \"apr\"])\n",
    "    ax.set_yticks([0, 5000, 10000])\n",
    "    ax.set_yticklabels([0, \"5k\", \"10k\"])\n",
    "    fig.savefig(\"COVID-19_Indonesia.png\", bbox_inches = \"tight\")"
   ]
  }
 ],
 "metadata": {
  "kernelspec": {
   "display_name": "Python 3",
   "language": "python",
   "name": "python3"
  },
  "language_info": {
   "codemirror_mode": {
    "name": "ipython",
    "version": 3
   },
   "file_extension": ".py",
   "mimetype": "text/x-python",
   "name": "python",
   "nbconvert_exporter": "python",
   "pygments_lexer": "ipython3",
   "version": "3.7.3"
  }
 },
 "nbformat": 4,
 "nbformat_minor": 2
}

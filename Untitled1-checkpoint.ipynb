{
 "cells": [
  {
   "cell_type": "markdown",
   "metadata": {},
   "source": [
    "<h1>Perkiraan Penduduk Indonesia Pertengahan 2011-2014</h1>\n",
    "\n",
    "Pada proyek kali ini, kita akan mengeksplorasi data dari [link ini](https://data.go.id/dataset/data-perkiraan-penduduk-pertengahan-tahun-menurut-provinsi-di-indonesia/). \n",
    "\n",
    "Dataset ini berisi mengenai Data Perkiraan Penduduk Pertengahan Tahun Menurut Provinsi di Indonesia.\n",
    "\n",
    "Penjelasan mengenai variabel pada Dataset ini:\n",
    "\n",
    "    tahun: tahun pendataan\n",
    "    provinsi: nama Provinsi di Indonesia\n",
    "    jumlah: jumlah penduduk di Indonesia (dalam ribuan)\n",
    "\n",
    "Pada proyek kali ini, tujuannya adalah untuk:\n",
    "1. Mengetahui provinsi dengan jumlah penduduk terbanyak di Indonesia pada tahun 2014\n",
    "2. Mengetahui provinsi dengan peningkatan jumlah penduduk terbanyak di Indonesia selama 2013-2014\n",
    "\n",
    "Mari kita mulai dengan membuka datasetnya."
   ]
  },
  {
   "cell_type": "code",
   "execution_count": 1,
   "metadata": {},
   "outputs": [
    {
     "name": "stdout",
     "output_type": "stream",
     "text": [
      "[['2011', 'Aceh', '4619.00'], ['2011', 'Sumatera Utara', '13220.90'], ['2011', 'Sumatera Barat', '4933.10'], ['2011', 'Riau', '5726.20'], ['2011', 'Kepulauan Riau', '1748.80'], ['2011', 'Jambi', '3167.60'], ['2011', 'Sumatera Selatan', '7598.50'], ['2011', 'Kepulauan Bangka Belitung', '1258.20'], ['2011', 'Bengkulu', '1753.00'], ['2011', 'Lampung', '7735.90'], ['2011', 'DKI Jakarta', '9752.10'], ['2011', 'Jawa Barat', '43938.80'], ['2011', 'Banten', '10943.80'], ['2011', 'Jawa Tengah ', '32725.40'], ['2011', 'DI Yogyakarta', '3510.00'], ['2011', 'Jawa Timur', '37840.70'], ['2011', 'Bali', '3957.60'], ['2011', 'Nusa Tenggara Barat', '3957.60'], ['2011', 'Nusa Tenggara Timur', '4788.60'], ['2011', 'Kalimantan Barat', '4488.90'], ['2011', 'Kalimantan Tengah ', '2275.10'], ['2011', 'Kalimantan Selatan', '3714.30'], ['2011', 'Kalimantan Timur', '3673.90'], ['2011', 'Sulawesi Utara', '2305.90'], ['2011', 'Gorontalo', '1062.60'], ['2011', 'Sulawesi Tengah', '2692.80'], ['2011', 'Sulawesi Selatan', '8156.10'], ['2011', 'Sulawesi Barat', '1187.50'], ['2011', 'Sulawesi Tenggara', '2294.40'], ['2011', 'Maluku', '1570.70'], ['2011', 'Maluku Utara', '1067.20'], ['2011', 'Papua', '2915.30'], ['2011', 'Papua Barat', '786.00'], ['2012', 'Aceh', '4715.10'], ['2012', 'Sumatera Utara', '13408.20'], ['2012', 'Sumatera Barat', '5000.20'], ['2012', 'Riau', '5879.10'], ['2012', 'Kepulauan Riau', '1805.10'], ['2012', 'Jambi', '3227.10'], ['2012', 'Sumatera Selatan', '7714.30'], ['2012', 'Kepulauan Bangka Belitung', '1286.60'], ['2012', 'Bengkulu', '1783.70'], ['2012', 'Lampung', '7835.30'], ['2012', 'DKI Jakarta', '9862.10'], ['2012', 'Jawa Barat', '44643.50'], ['2012', 'Banten', '11198.60'], ['2012', 'Jawa Tengah ', '32998.70'], ['2012', 'DI Yogyakarta', '3552.50'], ['2012', 'Jawa Timur', '38106.60'], ['2012', 'Bali', '4007.20'], ['2012', 'Nusa Tenggara Barat', '4007.20'], ['2012', 'Nusa Tenggara Timur', '4871.20'], ['2012', 'Kalimantan Barat', '4565.60'], ['2012', 'Kalimantan Tengah ', '2329.80'], ['2012', 'Kalimantan Selatan', '3785.00'], ['2012', 'Kalimantan Timur', '3772.20'], ['2012', 'Sulawesi Utara', '2333.50'], ['2012', 'Gorontalo', '1080.30'], ['2012', 'Sulawesi Tengah', '2739.30'], ['2012', 'Sulawesi Selatan', '8250.00'], ['2012', 'Sulawesi Barat', '1210.70'], ['2012', 'Sulawesi Tenggara', '2345.50'], ['2012', 'Maluku', '1599.50'], ['2012', 'Maluku Utara', '1091.10'], ['2012', 'Papua', '2973.80'], ['2012', 'Papua Barat', '807.00'], ['2013', 'Aceh', '4811.10'], ['2013', 'Sumatera Utara', '13590.30'], ['2013', 'Sumatera Barat', '5066.50'], ['2013', 'Riau', '6033.30'], ['2013', 'Kepulauan Riau', '1861.40'], ['2013', 'Jambi', '3286.10'], ['2013', 'Sumatera Selatan', '7828.70'], ['2013', 'Kepulauan Bangka Belitung', '1315.10'], ['2013', 'Bengkulu', '1814.40'], ['2013', 'Lampung', '7932.10'], ['2013', 'DKI Jakarta', '9969.90'], ['2013', 'Jawa Barat', '45340.80'], ['2013', 'Banten', '11452.50'], ['2013', 'Jawa Tengah ', '33264.30'], ['2013', 'DI Yogyakarta', '3594.90'], ['2013', 'Jawa Timur', '38363.20'], ['2013', 'Bali', '4056.30'], ['2013', 'Nusa Tenggara Barat', '4056.30'], ['2013', 'Nusa Tenggara Timur', '4954.00'], ['2013', 'Kalimantan Barat', '4641.40'], ['2013', 'Kalimantan Tengah ', '2384.70'], ['2013', 'Kalimantan Selatan', '3854.50'], ['2013', 'Kalimantan Timur', '3870.80'], ['2013', 'Sulawesi Utara', '2360.40'], ['2013', 'Gorontalo', '1098.00'], ['2013', 'Sulawesi Tengah', '2785.50'], ['2013', 'Sulawesi Selatan', '8342.00'], ['2013', 'Sulawesi Barat', '1234.30'], ['2013', 'Sulawesi Tenggara', '2396.70'], ['2013', 'Maluku', '1628.40'], ['2013', 'Maluku Utara', '1114.90'], ['2013', 'Papua', '3032.50'], ['2013', 'Papua Barat', '828.30'], ['2014', 'Aceh', '4906.80'], ['2014', 'Sumatera Utara', '13766.90'], ['2014', 'Sumatera Barat', '5131.90'], ['2014', 'Riau', '6188.40'], ['2014', 'Kepulauan Riau', '1917.40'], ['2014', 'Jambi', '3344.40'], ['2014', 'Sumatera Selatan', '7941.50'], ['2014', 'Kepulauan Bangka Belitung', '1343.90'], ['2014', 'Bengkulu', '1844.80'], ['2014', 'Lampung', '8026.20'], ['2014', 'DKI Jakarta', '10075.30'], ['2014', 'Jawa Barat', '46029.60'], ['2014', 'Banten', '11704.90'], ['2014', 'Jawa Tengah ', '33522.70'], ['2014', 'DI Yogyakarta', '3637.10'], ['2014', 'Jawa Timur', '38610.20'], ['2014', 'Bali', '4104.90'], ['2014', 'Nusa Tenggara Barat', '4773.80'], ['2014', 'Nusa Tenggara Timur', '5036.90'], ['2014', 'Kalimantan Barat', '4716.10'], ['2014', 'Kalimantan Tengah ', '2439.90'], ['2014', 'Kalimantan Selatan', '3922.80'], ['2014', 'Kalimantan Timur', '3969.60'], ['2014', 'Sulawesi Utara', '2386.60'], ['2014', 'Gorontalo', '1115.60'], ['2014', 'Sulawesi Tengah', '2831.30'], ['2014', 'Sulawesi Selatan', '8432.20'], ['2014', 'Sulawesi Barat', '1258.10'], ['2014', 'Sulawesi Tenggara', '2448.10'], ['2014', 'Maluku', '1657.40'], ['2014', 'Maluku Utara', '1138.70'], ['2014', 'Papua', '3091.00'], ['2014', 'Papua Barat', '849.80']]\n"
     ]
    }
   ],
   "source": [
    "from csv import reader\n",
    "dataset = open(\"E:/Perkiraan-Penduduk-Pertengahan-Tahun-Menurut-Provinsi-di-Indonesia-2011-2014.csv\", encoding = \"cp437\")\n",
    "read_data = reader(dataset)\n",
    "list_data = list(read_data)\n",
    "#membagi header dari dataset dengan isinya\n",
    "header_data = list_data[0]\n",
    "isi_data = list_data[1:]\n",
    "#ini adalah isi dari datasetnya\n",
    "print(isi_data)"
   ]
  },
  {
   "cell_type": "markdown",
   "metadata": {},
   "source": [
    "Pada dataset ini, data ini terbagi 4, yakni data pada 2011, 2012, 2013, dan 2014. Oleh karena itu, perlu membagi listnya menjadi 4 untuk mempermudah pengerjaan."
   ]
  },
  {
   "cell_type": "code",
   "execution_count": 2,
   "metadata": {},
   "outputs": [],
   "source": [
    "isi_data_2011 = isi_data[:33]\n",
    "isi_data_2012 = isi_data[33:66]\n",
    "isi_data_2013 = isi_data[66:99]\n",
    "isi_data_2014 = isi_data[99:132]"
   ]
  },
  {
   "cell_type": "markdown",
   "metadata": {},
   "source": [
    "<h2>Provinsi dengan Jumlah Penduduk Terbanyak</h2>\n",
    "\n",
    "Untuk mendapatkan provinsi dengan jumlah penduduk terbanyak, langkah-langkah yang akan dilakukan adalah:\n",
    "\n",
    "1. Membagi jumlah penduduk pada suatu provinsi dengan jumlah penduduk seluruh Indonesia\n",
    "2. Hasilnya akan dikalikan dengan 100, sehingga membentuk persentase\n",
    "3. Terakhir, akan dilakukan sortir sehingga dapat dimunculkan 5 terbanyak"
   ]
  },
  {
   "cell_type": "code",
   "execution_count": 3,
   "metadata": {},
   "outputs": [
    {
     "name": "stdout",
     "output_type": "stream",
     "text": [
      "5 Provinsi Dengan Jumlah Penduduk Seluruh Indonesia Tahun 2014 (Dalam Persen):\n",
      "Jawa Barat Dengan Persentase Sebesar 18.25%.\n",
      "Jawa Timur Dengan Persentase Sebesar 15.31%.\n",
      "Jawa Tengah  Dengan Persentase Sebesar 13.29%.\n",
      "Sumatera Utara Dengan Persentase Sebesar 5.46%.\n",
      "Banten Dengan Persentase Sebesar 4.64%.\n"
     ]
    }
   ],
   "source": [
    "#mencari terlebih dahulu jumlah penduduk 1 Indonesia tahun 2011-2014\n",
    "jumlah_2011 = 0\n",
    "jumlah_2012 = 0\n",
    "jumlah_2013 = 0\n",
    "jumlah_2014 = 0\n",
    "#mencari jumlah penduduk 1 indonesia tahun 2011\n",
    "for loop in isi_data[:33]:\n",
    "    jumlah_2011 += float(loop[2])\n",
    "#mencari jumlah penduduk 1 indonesia tahun 2012\n",
    "for loop in isi_data[33: 66]:\n",
    "    jumlah_2012 += float(loop[2])\n",
    "#mencari jumlah penduduk 1 indonesia tahun 2013\n",
    "for loop in isi_data[66: 99]:\n",
    "    jumlah_2013 += float(loop[2])\n",
    "#mencari jumlah penduduk 1 indonesia tahun 2014\n",
    "for loop in isi_data[99:132]:\n",
    "    jumlah_2014 += float(loop[2])\n",
    "\n",
    "#looping di dalam isi_data, menghitung persentase penduduk 2014\n",
    "persentase_2014 = []\n",
    "for loop in isi_data_2014:\n",
    "    persentase = float(loop[2]) / jumlah_2014 * 100\n",
    "    persentase_2014.append([persentase, loop[1]])\n",
    "\n",
    "#Lakukan sorting ke persentase_2014\n",
    "persentase_2014 = sorted(persentase_2014, reverse = True)\n",
    "\n",
    "#Tampilkan 5 terbesar\n",
    "print(\"5 Provinsi Dengan Jumlah Penduduk Seluruh Indonesia Tahun 2014 (Dalam Persen):\")\n",
    "string = \"{} Dengan Persentase Sebesar {:.2f}%.\"\n",
    "for loop in persentase_2014[:5]:\n",
    "    print(string.format(loop[1], loop[0]))"
   ]
  },
  {
   "cell_type": "markdown",
   "metadata": {},
   "source": [
    "Dari pemaparan data di atas, dapat disimpulkan bahwa Jawa Barat memiliki jumlah penduduk terbanyak di Indonesia, dengan persentase sekitar 18%, disusul dengan Jawa Timur dengan 15%.\n",
    "\n",
    "<h2>Pertumbuhan Jumlah Penduduk</h2>\n",
    "\n",
    "Sekarang, kita akan melihat pertumbuhan jumlah penduduk lalu membaginya kedalam 3 keadaan, yakni pertumbuhan cepat, pertumbuhan sedang, dan pertumbuhan lambat. Untuk mendapatkan nilai pertumbuhan jumlah penduduk ini, yang akan dilakukan adalah:\n",
    "\n",
    "1. Menghitung selisih antara jumlah penduduk pada tahun tertentu dengan tahun sebelumnya\n",
    "2. Hasilnya akan dibagi dengan jumlah penduduk yang tadi, lalu dikalikan dengan 100\n",
    "3. Jika hasilnya melebihi 2%, maka diberi nilai \"pertumbuhan cepat\". Jika hasilnya berkisar antara 1-2%, maka diberi nilai pertumbuhan sedang. Jika hasilnya kurang dari 1%, maka diberi nilai \"pertumbuhan lambat\"."
   ]
  },
  {
   "cell_type": "code",
   "execution_count": 4,
   "metadata": {},
   "outputs": [
    {
     "name": "stdout",
     "output_type": "stream",
     "text": [
      "Provinsi dengan pertumbuhan penduduk tahun 2013-2014 yang tergolong cepat berjumlah 10 provinsi\n",
      "Provinsi dengan pertumbuhan penduduk tahun 2013-2014 yang tergolong sedang berjumlah 21 provinsi\n",
      "Provinsi dengan pertumbuhan penduduk tahun 2013-2014 yang tergolong lambat berjumlah 2 provinsi\n"
     ]
    }
   ],
   "source": [
    "#membuat fungsi untuk mencari pertumbuhan jumlah penduduk\n",
    "def pertumbuhan(dataset_a, dataset_b):\n",
    "    hasil = {}\n",
    "    for loop in dataset_a:\n",
    "        for loop2 in dataset_b:\n",
    "            nama1 = loop[1]\n",
    "            nama2 = loop2[1]\n",
    "            penduduk1 = float(loop[2])\n",
    "            penduduk2 = float(loop2[2])\n",
    "            if (nama1 == nama2):\n",
    "                hasil_awal = (penduduk1 - penduduk2) / penduduk1 * 100\n",
    "                if (hasil_awal > 2):\n",
    "                    hasil[nama1] = \"Pertumbuhan Cepat\"\n",
    "                elif (hasil_awal > 1):\n",
    "                    hasil[nama1] = \"Pertumbuhan Sedang\"\n",
    "                else:\n",
    "                    hasil[nama1] = \"Pertumbuhan Lambat\"\n",
    "    return hasil;\n",
    "#Mencari pertumbuhan penduduk pada tahun 2013-2014\n",
    "pertumbuhan_2014 = pertumbuhan(isi_data_2014, isi_data_2013)\n",
    "cepat_2014 = 0\n",
    "sedang_2014 = 0\n",
    "lambat_2014 = 0\n",
    "for loop in pertumbuhan_2014:\n",
    "    if (pertumbuhan_2014[loop] == \"Pertumbuhan Cepat\"):\n",
    "        cepat_2014 += 1\n",
    "    elif (pertumbuhan_2014[loop] == \"Pertumbuhan Sedang\"):\n",
    "        sedang_2014 += 1\n",
    "    else:\n",
    "        lambat_2014 += 1\n",
    "string = \"Provinsi dengan pertumbuhan penduduk tahun 2013-2014 yang tergolong {} berjumlah {:d} provinsi\"\n",
    "print(string.format(\"cepat\", cepat_2014))\n",
    "print(string.format(\"sedang\", sedang_2014))\n",
    "print(string.format(\"lambat\", lambat_2014))"
   ]
  },
  {
   "cell_type": "markdown",
   "metadata": {},
   "source": [
    "<h2>Kesimpulan</h2>\n",
    "\n",
    "Melihat pada hasil analisa tadi, dapat disimpulkan bahwa:\n",
    "1. Akan ada 10 provinsi yang mengalami kesulitan dalam mencari tempat tinggal.\n",
    "2. Oleh karena itu, diperlukan pengurusan lahan dengan teknologi, sehingga penggunaan lahan menjadi maksimal, dan kesulitan pada poin 1 dapat dikurangi."
   ]
  }
 ],
 "metadata": {
  "kernelspec": {
   "display_name": "Python 3",
   "language": "python",
   "name": "python3"
  },
  "language_info": {
   "codemirror_mode": {
    "name": "ipython",
    "version": 3
   },
   "file_extension": ".py",
   "mimetype": "text/x-python",
   "name": "python",
   "nbconvert_exporter": "python",
   "pygments_lexer": "ipython3",
   "version": "3.7.3"
  }
 },
 "nbformat": 4,
 "nbformat_minor": 2
}

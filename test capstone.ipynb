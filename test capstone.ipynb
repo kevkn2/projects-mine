{
  "nbformat": 4,
  "nbformat_minor": 0,
  "metadata": {
    "colab": {
      "name": "Untitled3.ipynb",
      "provenance": [],
      "authorship_tag": "ABX9TyPCjMETusMTTth0gh2yG3IP",
      "include_colab_link": true
    },
    "kernelspec": {
      "name": "python3",
      "display_name": "Python 3"
    },
    "language_info": {
      "name": "python"
    },
    "accelerator": "GPU"
  },
  "cells": [
    {
      "cell_type": "markdown",
      "metadata": {
        "id": "view-in-github",
        "colab_type": "text"
      },
      "source": [
        "<a href=\"https://colab.research.google.com/github/kevkn2/projects-mine/blob/main/test%20capstone.ipynb\" target=\"_parent\"><img src=\"https://colab.research.google.com/assets/colab-badge.svg\" alt=\"Open In Colab\"/></a>"
      ]
    },
    {
      "cell_type": "code",
      "source": [
        "!unrar x \"/content/TRAIN.rar\" \"/content/\""
      ],
      "metadata": {
        "colab": {
          "base_uri": "https://localhost:8080/"
        },
        "id": "InRzUzidbYA4",
        "outputId": "2d6b850c-44cf-4077-c2fc-95e280ddd0a2"
      },
      "execution_count": null,
      "outputs": [
        {
          "output_type": "stream",
          "name": "stdout",
          "text": [
            "\n",
            "UNRAR 5.50 freeware      Copyright (c) 1993-2017 Alexander Roshal\n",
            "\n",
            "\n",
            "Extracting from /content/TRAIN.rar\n",
            "\n",
            "Creating    /content/TRAIN                                            OK\n",
            "Creating    /content/TRAIN/Kain Tenun Toraja                          OK\n",
            "Extracting  /content/TRAIN/Kain Tenun Toraja/toraja1.jpg                 \b\b\b\b  0%\b\b\b\b\b  OK \n",
            "Extracting  /content/TRAIN/Kain Tenun Toraja/toraja10.jpg                \b\b\b\b  1%\b\b\b\b  2%\b\b\b\b  3%\b\b\b\b\b  OK \n",
            "Extracting  /content/TRAIN/Kain Tenun Toraja/toraja2.jpg                 \b\b\b\b  6%\b\b\b\b\b  OK \n",
            "Extracting  /content/TRAIN/Kain Tenun Toraja/toraja3.jpg                 \b\b\b\b 12%\b\b\b\b\b  OK \n",
            "Extracting  /content/TRAIN/Kain Tenun Toraja/toraja4.jpg                 \b\b\b\b 13%\b\b\b\b\b  OK \n",
            "Extracting  /content/TRAIN/Kain Tenun Toraja/toraja5.jpg                 \b\b\b\b 13%\b\b\b\b 14%\b\b\b\b 15%\b\b\b\b\b  OK \n",
            "Extracting  /content/TRAIN/Kain Tenun Toraja/toraja6.jpg                 \b\b\b\b 16%\b\b\b\b 17%\b\b\b\b 18%\b\b\b\b 19%\b\b\b\b 20%\b\b\b\b 21%\b\b\b\b 22%\b\b\b\b\b  OK \n",
            "Extracting  /content/TRAIN/Kain Tenun Toraja/toraja7.jpg                 \b\b\b\b 24%\b\b\b\b\b  OK \n",
            "Extracting  /content/TRAIN/Kain Tenun Toraja/toraja8.jpg                 \b\b\b\b 27%\b\b\b\b\b  OK \n",
            "Extracting  /content/TRAIN/Kain Tenun Toraja/toraja9.jpg                 \b\b\b\b 27%\b\b\b\b 28%\b\b\b\b 29%\b\b\b\b 30%\b\b\b\b 31%\b\b\b\b 32%\b\b\b\b 33%\b\b\b\b\b  OK \n",
            "Creating    /content/TRAIN/Kain Tenun Ulos Sumatera Utara             OK\n",
            "Extracting  /content/TRAIN/Kain Tenun Ulos Sumatera Utara/4126951544.jpg     \b\b\b\b 34%\b\b\b\b 35%\b\b\b\b 36%\b\b\b\b 37%\b\b\b\b 38%\b\b\b\b 39%\b\b\b\b 40%\b\b\b\b\b  OK \n",
            "Extracting  /content/TRAIN/Kain Tenun Ulos Sumatera Utara/53755-kain-ulos.jpg     \b\b\b\b 41%\b\b\b\b\b  OK \n",
            "Extracting  /content/TRAIN/Kain Tenun Ulos Sumatera Utara/621c6c100fc46.jpg     \b\b\b\b 42%\b\b\b\b 43%\b\b\b\b\b  OK \n",
            "Extracting  /content/TRAIN/Kain Tenun Ulos Sumatera Utara/data.jpg       \b\b\b\b 44%\b\b\b\b\b  OK \n",
            "Extracting  /content/TRAIN/Kain Tenun Ulos Sumatera Utara/image2.jpg     \b\b\b\b 49%\b\b\b\b 54%\b\b\b\b\b  OK \n",
            "Extracting  /content/TRAIN/Kain Tenun Ulos Sumatera Utara/Kain-Tenun-Ulos-Berasal-Dari-Daerah.jpg     \b\b\b\b 55%\b\b\b\b\b  OK \n",
            "Extracting  /content/TRAIN/Kain Tenun Ulos Sumatera Utara/kain-ulos-ragidup12011.jpg     \b\b\b\b 56%\b\b\b\b\b  OK \n",
            "Extracting  /content/TRAIN/Kain Tenun Ulos Sumatera Utara/Screenshot 2022-05-11 183636.jpg     \b\b\b\b 57%\b\b\b\b 58%\b\b\b\b\b  OK \n",
            "Extracting  /content/TRAIN/Kain Tenun Ulos Sumatera Utara/Screenshot 2022-05-11 183817.jpg     \b\b\b\b 63%\b\b\b\b 68%\b\b\b\b 70%\b\b\b\b\b  OK \n",
            "Extracting  /content/TRAIN/Kain Tenun Ulos Sumatera Utara/Ulos-featured-742x440.jpg     \b\b\b\b 71%\b\b\b\b 72%\b\b\b\b\b  OK \n",
            "Creating    /content/TRAIN/Tenun Lurik Jawa Tengah                    OK\n",
            "Extracting  /content/TRAIN/Tenun Lurik Jawa Tengah/0_543729b4-11c9-40bd-831f-b9ed8fee4fd3_960_1280.jpg     \b\b\b\b 74%\b\b\b\b\b  OK \n",
            "Extracting  /content/TRAIN/Tenun Lurik Jawa Tengah/2-MOTIF-KLUWUNG-FITINLINE.jpg     \b\b\b\b 74%\b\b\b\b\b  OK \n",
            "Extracting  /content/TRAIN/Tenun Lurik Jawa Tengah/201924101834173_333ab2a2-e2de-4bc3-bc4e-04a0ea6ceaf6.jpg     \b\b\b\b 75%\b\b\b\b 76%\b\b\b\b\b  OK \n",
            "Extracting  /content/TRAIN/Tenun Lurik Jawa Tengah/201924102922999_01d4c892-4fe2-46e1-bf6f-91c1ef491f8a_1224_1224.jpg     \b\b\b\b 77%\b\b\b\b 78%\b\b\b\b 79%\b\b\b\b 80%\b\b\b\b\b  OK \n",
            "Extracting  /content/TRAIN/Tenun Lurik Jawa Tengah/20210427082144_normal.jpg     \b\b\b\b 81%\b\b\b\b 82%\b\b\b\b\b  OK \n",
            "Extracting  /content/TRAIN/Tenun Lurik Jawa Tengah/8be5b9f6-bd7b-4fc8-9ef0-ee876e9ce94b.jpg     \b\b\b\b 84%\b\b\b\b\b  OK \n",
            "Extracting  /content/TRAIN/Tenun Lurik Jawa Tengah/data.jpg              \b\b\b\b 85%\b\b\b\b\b  OK \n",
            "Extracting  /content/TRAIN/Tenun Lurik Jawa Tengah/inv_e2c4cadf-1d5b-44ca-b1e9-65faf3071807_672_672.jpg     \b\b\b\b 87%\b\b\b\b\b  OK \n",
            "Extracting  /content/TRAIN/Tenun Lurik Jawa Tengah/kain-lurik-0.jpg      \b\b\b\b 88%\b\b\b\b 89%\b\b\b\b 90%\b\b\b\b\b  OK \n",
            "Extracting  /content/TRAIN/Tenun Lurik Jawa Tengah/large-lurik-d04dccf5511ab9f1fcf633479a9214c5.jpg     \b\b\b\b 95%\b\b\b\b 99%\b\b\b\b\b  OK \n",
            "All OK\n"
          ]
        }
      ]
    },
    {
      "cell_type": "code",
      "execution_count": null,
      "metadata": {
        "colab": {
          "base_uri": "https://localhost:8080/"
        },
        "id": "4-TppZPchX-L",
        "outputId": "dcdbc156-ee93-4708-ea90-a22dc4fbcaa7"
      },
      "outputs": [
        {
          "output_type": "stream",
          "name": "stdout",
          "text": [
            "Found 30 images belonging to 3 classes.\n"
          ]
        }
      ],
      "source": [
        "import tensorflow as tf\n",
        "import numpy as np\n",
        "import os\n",
        "from keras.preprocessing import image\n",
        "from tensorflow.keras.preprocessing.image import ImageDataGenerator\n",
        "import tensorflow_hub as hub\n",
        "\n",
        "train_datagen = ImageDataGenerator(rescale=1.0/255.0,\n",
        "                                   rotation_range=45,\n",
        "                                   width_shift_range=0.2,\n",
        "                                   height_shift_range=0.2,\n",
        "                                   shear_range=0.2,\n",
        "                                   zoom_range=0.2,\n",
        "                                   horizontal_flip=True,\n",
        "                                   vertical_flip=True,\n",
        "                                   fill_mode='nearest')\n",
        "\n",
        "train_generator = train_datagen.flow_from_directory(\n",
        "        '/content/TRAIN',\n",
        "        target_size=(300,300),\n",
        "        batch_size=2,\n",
        "        class_mode='categorical')"
      ]
    },
    {
      "cell_type": "code",
      "source": [
        "feature_extractor = hub.KerasLayer(\"https://tfhub.dev/tensorflow/resnet_50/classification/1\")\n",
        "feature_extractor.trainable = True"
      ],
      "metadata": {
        "id": "sT369SCbmh9V"
      },
      "execution_count": null,
      "outputs": []
    },
    {
      "cell_type": "code",
      "source": [
        "model = tf.keras.models.Sequential([\n",
        "    tf.keras.layers.Conv2D(16, (3,3), activation='relu', input_shape=(300,300,3)),\n",
        "    tf.keras.layers.MaxPooling2D(2,2),\n",
        "    tf.keras.layers.Conv2D(32, (3,3), activation='relu'),\n",
        "    tf.keras.layers.MaxPooling2D(2,2),\n",
        "    tf.keras.layers.Conv2D(64, (3,3), activation='relu'),\n",
        "    tf.keras.layers.MaxPooling2D(2,2),\n",
        "    tf.keras.layers.Flatten(),\n",
        "    tf.keras.layers.Dense(512, activation = 'relu'),\n",
        "    tf.keras.layers.Dense(3, activation = 'softmax')\n",
        "])\n",
        "model.compile(loss='categorical_crossentropy',\n",
        "              optimizer=tf.keras.optimizers.RMSprop(learning_rate=0.0001),\n",
        "              metrics=['accuracy'])\n",
        "model.summary()\n",
        "history = model.fit(train_generator,\n",
        "                    epochs=15,\n",
        "                    verbose=1)"
      ],
      "metadata": {
        "colab": {
          "base_uri": "https://localhost:8080/"
        },
        "id": "2bl8p_lXmf1U",
        "outputId": "a1879471-941a-4a62-ac8d-7da783043f90"
      },
      "execution_count": null,
      "outputs": [
        {
          "output_type": "stream",
          "name": "stdout",
          "text": [
            "Model: \"sequential_13\"\n",
            "_________________________________________________________________\n",
            " Layer (type)                Output Shape              Param #   \n",
            "=================================================================\n",
            " conv2d_28 (Conv2D)          (None, 298, 298, 16)      448       \n",
            "                                                                 \n",
            " max_pooling2d_28 (MaxPoolin  (None, 149, 149, 16)     0         \n",
            " g2D)                                                            \n",
            "                                                                 \n",
            " conv2d_29 (Conv2D)          (None, 147, 147, 32)      4640      \n",
            "                                                                 \n",
            " max_pooling2d_29 (MaxPoolin  (None, 73, 73, 32)       0         \n",
            " g2D)                                                            \n",
            "                                                                 \n",
            " conv2d_30 (Conv2D)          (None, 71, 71, 64)        18496     \n",
            "                                                                 \n",
            " max_pooling2d_30 (MaxPoolin  (None, 35, 35, 64)       0         \n",
            " g2D)                                                            \n",
            "                                                                 \n",
            " flatten_13 (Flatten)        (None, 78400)             0         \n",
            "                                                                 \n",
            " dense_26 (Dense)            (None, 512)               40141312  \n",
            "                                                                 \n",
            " dense_27 (Dense)            (None, 3)                 1539      \n",
            "                                                                 \n",
            "=================================================================\n",
            "Total params: 40,166,435\n",
            "Trainable params: 40,166,435\n",
            "Non-trainable params: 0\n",
            "_________________________________________________________________\n",
            "Epoch 1/15\n",
            "15/15 [==============================] - 2s 89ms/step - loss: 1.6012 - accuracy: 0.4333\n",
            "Epoch 2/15\n",
            "15/15 [==============================] - 1s 90ms/step - loss: 1.1578 - accuracy: 0.4333\n",
            "Epoch 3/15\n",
            "15/15 [==============================] - 1s 87ms/step - loss: 0.9677 - accuracy: 0.4667\n",
            "Epoch 4/15\n",
            "15/15 [==============================] - 1s 86ms/step - loss: 0.9312 - accuracy: 0.5000\n",
            "Epoch 5/15\n",
            "15/15 [==============================] - 1s 89ms/step - loss: 0.8789 - accuracy: 0.5667\n",
            "Epoch 6/15\n",
            "15/15 [==============================] - 1s 87ms/step - loss: 0.9592 - accuracy: 0.4333\n",
            "Epoch 7/15\n",
            "15/15 [==============================] - 1s 89ms/step - loss: 0.8248 - accuracy: 0.6333\n",
            "Epoch 8/15\n",
            "15/15 [==============================] - 1s 87ms/step - loss: 0.8841 - accuracy: 0.5667\n",
            "Epoch 9/15\n",
            "15/15 [==============================] - 1s 84ms/step - loss: 0.7669 - accuracy: 0.6000\n",
            "Epoch 10/15\n",
            "15/15 [==============================] - 1s 88ms/step - loss: 0.7733 - accuracy: 0.6000\n",
            "Epoch 11/15\n",
            "15/15 [==============================] - 1s 89ms/step - loss: 0.7922 - accuracy: 0.6000\n",
            "Epoch 12/15\n",
            "15/15 [==============================] - 1s 88ms/step - loss: 0.7533 - accuracy: 0.5667\n",
            "Epoch 13/15\n",
            "15/15 [==============================] - 1s 85ms/step - loss: 0.7470 - accuracy: 0.6667\n",
            "Epoch 14/15\n",
            "15/15 [==============================] - 1s 88ms/step - loss: 0.8758 - accuracy: 0.5667\n",
            "Epoch 15/15\n",
            "15/15 [==============================] - 1s 88ms/step - loss: 0.7329 - accuracy: 0.6333\n"
          ]
        }
      ]
    },
    {
      "cell_type": "code",
      "source": [
        "img = image.load_img(r'C:\\Users\\FarhanNurHakim\\Downloads\\ulos109159496_82e693e9-d178-47ee-9cd4-d7c00488a497_664_664.jpg', target_size=(300,300))\n",
        "x = image.img_to_array(img)\n",
        "x = x/255\n",
        "x = np.expand_dims(x, axis=0)\n",
        "\n",
        "images = np.vstack([x])\n",
        "classes = model.predict(images, batch_size=2)\n",
        "print(classes[0])\n",
        "\n",
        "if classes[0]<0.5:\n",
        "    print('ulos')\n",
        "else:\n",
        "    print('lurik')\n",
        "\n",
        "tf.saved_model.save(model, r'D:\\Experiment\\TFExperiment\\savedmodel')\n",
        "converter = tf.lite.TFLiteConverter.from_saved_model('D:\\Experiment\\TFExperiment\\savedmodel')\n",
        "tflite_model = converter.convert()\n",
        "\n",
        "tflite_model_file = pathlib.Path(r'D:\\Experiment\\TFExperiment\\tmp\\foo.tflite')\n",
        "tflite_model_file.write_bytes(tflite_model)"
      ],
      "metadata": {
        "id": "LEA4i57TkS2K"
      },
      "execution_count": null,
      "outputs": []
    }
  ]
}